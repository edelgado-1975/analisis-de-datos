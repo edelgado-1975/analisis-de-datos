{
  "nbformat": 4,
  "nbformat_minor": 0,
  "metadata": {
    "colab": {
      "name": "17.Series de tiempo y visualizacioes.ipynb ",
      "provenance": [],
      "toc_visible": true,
      "authorship_tag": "ABX9TyPX9jMBIEUdTPaI+0dNbpzD",
      "include_colab_link": true
    },
    "kernelspec": {
      "name": "python3",
      "display_name": "Python 3"
    }
  },
  "cells": [
    {
      "cell_type": "markdown",
      "metadata": {
        "id": "view-in-github",
        "colab_type": "text"
      },
      "source": [
        "<a href=\"https://colab.research.google.com/github/francomanca93/analisis-de-datos/blob/aplicaciones/3-Aplicando-pandas/17_Series_de_tiempo_y_visualizacioes.ipynb\" target=\"_parent\"><img src=\"https://colab.research.google.com/assets/colab-badge.svg\" alt=\"Open In Colab\"/></a>"
      ]
    },
    {
      "cell_type": "markdown",
      "metadata": {
        "id": "cGISXI0IfDMv",
        "colab_type": "text"
      },
      "source": [
        "# Series de Tiempo\n",
        "\n",
        "En las lecturas previas se aprendio a como trabajar con **variables nulas** y a como darle formato a las **variables de tipo tiempo**. \n",
        "\n",
        "En esta sección se vera como utilizar las herramientas anteriores y como trabajar con **series de tiempo**. Se utilizará una base de dato que tiene información sobre el **coronavirus**. La misma la podemos encontrar en el siguiente enlace a la base de datos de [covid-19](https://www.kaggle.com/sudalairajkumar/novel-corona-virus-2019-dataset?select=covid_19_data.csv)"
      ]
    },
    {
      "cell_type": "code",
      "metadata": {
        "id": "-jWSVlY3bWYJ",
        "colab_type": "code",
        "colab": {
          "base_uri": "https://localhost:8080/",
          "height": 124
        },
        "outputId": "614808aa-3d7f-4ca5-89cb-58fba293cc42"
      },
      "source": [
        "from google.colab import drive\n",
        "drive.mount('/content/drive/')"
      ],
      "execution_count": 1,
      "outputs": [
        {
          "output_type": "stream",
          "text": [
            "Go to this URL in a browser: https://accounts.google.com/o/oauth2/auth?client_id=947318989803-6bn6qk8qdgf4n4g3pfee6491hc0brc4i.apps.googleusercontent.com&redirect_uri=urn%3aietf%3awg%3aoauth%3a2.0%3aoob&scope=email%20https%3a%2f%2fwww.googleapis.com%2fauth%2fdocs.test%20https%3a%2f%2fwww.googleapis.com%2fauth%2fdrive%20https%3a%2f%2fwww.googleapis.com%2fauth%2fdrive.photos.readonly%20https%3a%2f%2fwww.googleapis.com%2fauth%2fpeopleapi.readonly&response_type=code\n",
            "\n",
            "Enter your authorization code:\n",
            "··········\n",
            "Mounted at /content/drive/\n"
          ],
          "name": "stdout"
        }
      ]
    },
    {
      "cell_type": "code",
      "metadata": {
        "id": "7L6u6QA5kDzX",
        "colab_type": "code",
        "colab": {
          "base_uri": "https://localhost:8080/",
          "height": 104
        },
        "outputId": "416d96f6-8546-4184-d742-894f1b0a6e33"
      },
      "source": [
        "%cd '/content/drive/My Drive/Colab Notebooks/analisis-de-datos-con-pandas/db/'\n",
        "!ls"
      ],
      "execution_count": 2,
      "outputs": [
        {
          "output_type": "stream",
          "text": [
            "/content/drive/My Drive/Colab Notebooks/analisis-de-datos-con-pandas/db\n",
            "covid_19_data.csv\ttest.csv     test.parquet\n",
            "london_merged.csv\ttest.gsheet  test.pkl\n",
            "Meteorite_Landings.csv\ttest.hdf     test-separacion-diferente.csv\n",
            "poblacion.csv\t\ttest.json    test.xlsx\n"
          ],
          "name": "stdout"
        }
      ]
    },
    {
      "cell_type": "code",
      "metadata": {
        "id": "rz-NUh6Tvzp9",
        "colab_type": "code",
        "colab": {}
      },
      "source": [
        "import pandas as pd"
      ],
      "execution_count": 3,
      "outputs": []
    },
    {
      "cell_type": "code",
      "metadata": {
        "id": "0ZFrYdFxloJ5",
        "colab_type": "code",
        "colab": {
          "base_uri": "https://localhost:8080/",
          "height": 424
        },
        "outputId": "31d34127-f809-4854-d852-8a5eb45f3b39"
      },
      "source": [
        "df = pd.read_csv('covid_19_data.csv')\n",
        "df\n"
      ],
      "execution_count": 4,
      "outputs": [
        {
          "output_type": "execute_result",
          "data": {
            "text/html": [
              "<div>\n",
              "<style scoped>\n",
              "    .dataframe tbody tr th:only-of-type {\n",
              "        vertical-align: middle;\n",
              "    }\n",
              "\n",
              "    .dataframe tbody tr th {\n",
              "        vertical-align: top;\n",
              "    }\n",
              "\n",
              "    .dataframe thead th {\n",
              "        text-align: right;\n",
              "    }\n",
              "</style>\n",
              "<table border=\"1\" class=\"dataframe\">\n",
              "  <thead>\n",
              "    <tr style=\"text-align: right;\">\n",
              "      <th></th>\n",
              "      <th>SNo</th>\n",
              "      <th>ObservationDate</th>\n",
              "      <th>Province/State</th>\n",
              "      <th>Country/Region</th>\n",
              "      <th>Last Update</th>\n",
              "      <th>Confirmed</th>\n",
              "      <th>Deaths</th>\n",
              "      <th>Recovered</th>\n",
              "    </tr>\n",
              "  </thead>\n",
              "  <tbody>\n",
              "    <tr>\n",
              "      <th>0</th>\n",
              "      <td>1</td>\n",
              "      <td>01/22/2020</td>\n",
              "      <td>Anhui</td>\n",
              "      <td>Mainland China</td>\n",
              "      <td>1/22/2020 17:00</td>\n",
              "      <td>1.0</td>\n",
              "      <td>0.0</td>\n",
              "      <td>0.0</td>\n",
              "    </tr>\n",
              "    <tr>\n",
              "      <th>1</th>\n",
              "      <td>2</td>\n",
              "      <td>01/22/2020</td>\n",
              "      <td>Beijing</td>\n",
              "      <td>Mainland China</td>\n",
              "      <td>1/22/2020 17:00</td>\n",
              "      <td>14.0</td>\n",
              "      <td>0.0</td>\n",
              "      <td>0.0</td>\n",
              "    </tr>\n",
              "    <tr>\n",
              "      <th>2</th>\n",
              "      <td>3</td>\n",
              "      <td>01/22/2020</td>\n",
              "      <td>Chongqing</td>\n",
              "      <td>Mainland China</td>\n",
              "      <td>1/22/2020 17:00</td>\n",
              "      <td>6.0</td>\n",
              "      <td>0.0</td>\n",
              "      <td>0.0</td>\n",
              "    </tr>\n",
              "    <tr>\n",
              "      <th>3</th>\n",
              "      <td>4</td>\n",
              "      <td>01/22/2020</td>\n",
              "      <td>Fujian</td>\n",
              "      <td>Mainland China</td>\n",
              "      <td>1/22/2020 17:00</td>\n",
              "      <td>1.0</td>\n",
              "      <td>0.0</td>\n",
              "      <td>0.0</td>\n",
              "    </tr>\n",
              "    <tr>\n",
              "      <th>4</th>\n",
              "      <td>5</td>\n",
              "      <td>01/22/2020</td>\n",
              "      <td>Gansu</td>\n",
              "      <td>Mainland China</td>\n",
              "      <td>1/22/2020 17:00</td>\n",
              "      <td>0.0</td>\n",
              "      <td>0.0</td>\n",
              "      <td>0.0</td>\n",
              "    </tr>\n",
              "    <tr>\n",
              "      <th>...</th>\n",
              "      <td>...</td>\n",
              "      <td>...</td>\n",
              "      <td>...</td>\n",
              "      <td>...</td>\n",
              "      <td>...</td>\n",
              "      <td>...</td>\n",
              "      <td>...</td>\n",
              "      <td>...</td>\n",
              "    </tr>\n",
              "    <tr>\n",
              "      <th>83406</th>\n",
              "      <td>83407</td>\n",
              "      <td>08/09/2020</td>\n",
              "      <td>Zaporizhia Oblast</td>\n",
              "      <td>Ukraine</td>\n",
              "      <td>2020-08-10 04:34:55</td>\n",
              "      <td>937.0</td>\n",
              "      <td>22.0</td>\n",
              "      <td>652.0</td>\n",
              "    </tr>\n",
              "    <tr>\n",
              "      <th>83407</th>\n",
              "      <td>83408</td>\n",
              "      <td>08/09/2020</td>\n",
              "      <td>Zeeland</td>\n",
              "      <td>Netherlands</td>\n",
              "      <td>2020-08-10 04:34:55</td>\n",
              "      <td>918.0</td>\n",
              "      <td>69.0</td>\n",
              "      <td>0.0</td>\n",
              "    </tr>\n",
              "    <tr>\n",
              "      <th>83408</th>\n",
              "      <td>83409</td>\n",
              "      <td>08/09/2020</td>\n",
              "      <td>Zhejiang</td>\n",
              "      <td>Mainland China</td>\n",
              "      <td>2020-08-10 04:34:55</td>\n",
              "      <td>1273.0</td>\n",
              "      <td>1.0</td>\n",
              "      <td>1268.0</td>\n",
              "    </tr>\n",
              "    <tr>\n",
              "      <th>83409</th>\n",
              "      <td>83410</td>\n",
              "      <td>08/09/2020</td>\n",
              "      <td>Zhytomyr Oblast</td>\n",
              "      <td>Ukraine</td>\n",
              "      <td>2020-08-10 04:34:55</td>\n",
              "      <td>2131.0</td>\n",
              "      <td>41.0</td>\n",
              "      <td>1524.0</td>\n",
              "    </tr>\n",
              "    <tr>\n",
              "      <th>83410</th>\n",
              "      <td>83411</td>\n",
              "      <td>08/09/2020</td>\n",
              "      <td>Zuid-Holland</td>\n",
              "      <td>Netherlands</td>\n",
              "      <td>2020-08-10 04:34:55</td>\n",
              "      <td>14931.0</td>\n",
              "      <td>1312.0</td>\n",
              "      <td>0.0</td>\n",
              "    </tr>\n",
              "  </tbody>\n",
              "</table>\n",
              "<p>83411 rows × 8 columns</p>\n",
              "</div>"
            ],
            "text/plain": [
              "         SNo ObservationDate     Province/State  ... Confirmed  Deaths  Recovered\n",
              "0          1      01/22/2020              Anhui  ...       1.0     0.0        0.0\n",
              "1          2      01/22/2020            Beijing  ...      14.0     0.0        0.0\n",
              "2          3      01/22/2020          Chongqing  ...       6.0     0.0        0.0\n",
              "3          4      01/22/2020             Fujian  ...       1.0     0.0        0.0\n",
              "4          5      01/22/2020              Gansu  ...       0.0     0.0        0.0\n",
              "...      ...             ...                ...  ...       ...     ...        ...\n",
              "83406  83407      08/09/2020  Zaporizhia Oblast  ...     937.0    22.0      652.0\n",
              "83407  83408      08/09/2020            Zeeland  ...     918.0    69.0        0.0\n",
              "83408  83409      08/09/2020           Zhejiang  ...    1273.0     1.0     1268.0\n",
              "83409  83410      08/09/2020    Zhytomyr Oblast  ...    2131.0    41.0     1524.0\n",
              "83410  83411      08/09/2020       Zuid-Holland  ...   14931.0  1312.0        0.0\n",
              "\n",
              "[83411 rows x 8 columns]"
            ]
          },
          "metadata": {
            "tags": []
          },
          "execution_count": 4
        }
      ]
    },
    {
      "cell_type": "markdown",
      "metadata": {
        "id": "P0jnAdI2pmh_",
        "colab_type": "text"
      },
      "source": [
        "## Da formato tiempo a una columna"
      ]
    },
    {
      "cell_type": "markdown",
      "metadata": {
        "id": "SMUSoqiqv_BU",
        "colab_type": "text"
      },
      "source": [
        "Vamos a darle un poco de formato al dataframe tipo tiempo a la segunda columna:"
      ]
    },
    {
      "cell_type": "code",
      "metadata": {
        "id": "Do1N1Whfv_yN",
        "colab_type": "code",
        "colab": {}
      },
      "source": [
        "df['ObservationDate'] = pd.to_datetime(df['ObservationDate'])"
      ],
      "execution_count": 5,
      "outputs": []
    },
    {
      "cell_type": "markdown",
      "metadata": {
        "id": "CAv5nprbwXEz",
        "colab_type": "text"
      },
      "source": [
        "Vamos a trabajar solo con algunas columnas de dataframe, para ver las columnas lo hacemos con **list(df)**"
      ]
    },
    {
      "cell_type": "code",
      "metadata": {
        "id": "DYOr69p7v-El",
        "colab_type": "code",
        "colab": {
          "base_uri": "https://localhost:8080/",
          "height": 156
        },
        "outputId": "fedd76a2-340f-43ef-aa84-d78717871cfd"
      },
      "source": [
        "list(df)"
      ],
      "execution_count": 6,
      "outputs": [
        {
          "output_type": "execute_result",
          "data": {
            "text/plain": [
              "['SNo',\n",
              " 'ObservationDate',\n",
              " 'Province/State',\n",
              " 'Country/Region',\n",
              " 'Last Update',\n",
              " 'Confirmed',\n",
              " 'Deaths',\n",
              " 'Recovered']"
            ]
          },
          "metadata": {
            "tags": []
          },
          "execution_count": 6
        }
      ]
    },
    {
      "cell_type": "code",
      "metadata": {
        "id": "qiM3HvkYvxRD",
        "colab_type": "code",
        "colab": {
          "base_uri": "https://localhost:8080/",
          "height": 424
        },
        "outputId": "88919761-d71c-4fbc-9299-6c3d28168ee2"
      },
      "source": [
        "df = df[[\n",
        "         'ObservationDate',\n",
        "         'Country/Region',\n",
        "         'Confirmed',\n",
        "         'Deaths',\n",
        "         'Recovered'\n",
        "         ]]\n",
        "df"
      ],
      "execution_count": 7,
      "outputs": [
        {
          "output_type": "execute_result",
          "data": {
            "text/html": [
              "<div>\n",
              "<style scoped>\n",
              "    .dataframe tbody tr th:only-of-type {\n",
              "        vertical-align: middle;\n",
              "    }\n",
              "\n",
              "    .dataframe tbody tr th {\n",
              "        vertical-align: top;\n",
              "    }\n",
              "\n",
              "    .dataframe thead th {\n",
              "        text-align: right;\n",
              "    }\n",
              "</style>\n",
              "<table border=\"1\" class=\"dataframe\">\n",
              "  <thead>\n",
              "    <tr style=\"text-align: right;\">\n",
              "      <th></th>\n",
              "      <th>ObservationDate</th>\n",
              "      <th>Country/Region</th>\n",
              "      <th>Confirmed</th>\n",
              "      <th>Deaths</th>\n",
              "      <th>Recovered</th>\n",
              "    </tr>\n",
              "  </thead>\n",
              "  <tbody>\n",
              "    <tr>\n",
              "      <th>0</th>\n",
              "      <td>2020-01-22</td>\n",
              "      <td>Mainland China</td>\n",
              "      <td>1.0</td>\n",
              "      <td>0.0</td>\n",
              "      <td>0.0</td>\n",
              "    </tr>\n",
              "    <tr>\n",
              "      <th>1</th>\n",
              "      <td>2020-01-22</td>\n",
              "      <td>Mainland China</td>\n",
              "      <td>14.0</td>\n",
              "      <td>0.0</td>\n",
              "      <td>0.0</td>\n",
              "    </tr>\n",
              "    <tr>\n",
              "      <th>2</th>\n",
              "      <td>2020-01-22</td>\n",
              "      <td>Mainland China</td>\n",
              "      <td>6.0</td>\n",
              "      <td>0.0</td>\n",
              "      <td>0.0</td>\n",
              "    </tr>\n",
              "    <tr>\n",
              "      <th>3</th>\n",
              "      <td>2020-01-22</td>\n",
              "      <td>Mainland China</td>\n",
              "      <td>1.0</td>\n",
              "      <td>0.0</td>\n",
              "      <td>0.0</td>\n",
              "    </tr>\n",
              "    <tr>\n",
              "      <th>4</th>\n",
              "      <td>2020-01-22</td>\n",
              "      <td>Mainland China</td>\n",
              "      <td>0.0</td>\n",
              "      <td>0.0</td>\n",
              "      <td>0.0</td>\n",
              "    </tr>\n",
              "    <tr>\n",
              "      <th>...</th>\n",
              "      <td>...</td>\n",
              "      <td>...</td>\n",
              "      <td>...</td>\n",
              "      <td>...</td>\n",
              "      <td>...</td>\n",
              "    </tr>\n",
              "    <tr>\n",
              "      <th>83406</th>\n",
              "      <td>2020-08-09</td>\n",
              "      <td>Ukraine</td>\n",
              "      <td>937.0</td>\n",
              "      <td>22.0</td>\n",
              "      <td>652.0</td>\n",
              "    </tr>\n",
              "    <tr>\n",
              "      <th>83407</th>\n",
              "      <td>2020-08-09</td>\n",
              "      <td>Netherlands</td>\n",
              "      <td>918.0</td>\n",
              "      <td>69.0</td>\n",
              "      <td>0.0</td>\n",
              "    </tr>\n",
              "    <tr>\n",
              "      <th>83408</th>\n",
              "      <td>2020-08-09</td>\n",
              "      <td>Mainland China</td>\n",
              "      <td>1273.0</td>\n",
              "      <td>1.0</td>\n",
              "      <td>1268.0</td>\n",
              "    </tr>\n",
              "    <tr>\n",
              "      <th>83409</th>\n",
              "      <td>2020-08-09</td>\n",
              "      <td>Ukraine</td>\n",
              "      <td>2131.0</td>\n",
              "      <td>41.0</td>\n",
              "      <td>1524.0</td>\n",
              "    </tr>\n",
              "    <tr>\n",
              "      <th>83410</th>\n",
              "      <td>2020-08-09</td>\n",
              "      <td>Netherlands</td>\n",
              "      <td>14931.0</td>\n",
              "      <td>1312.0</td>\n",
              "      <td>0.0</td>\n",
              "    </tr>\n",
              "  </tbody>\n",
              "</table>\n",
              "<p>83411 rows × 5 columns</p>\n",
              "</div>"
            ],
            "text/plain": [
              "      ObservationDate  Country/Region  Confirmed  Deaths  Recovered\n",
              "0          2020-01-22  Mainland China        1.0     0.0        0.0\n",
              "1          2020-01-22  Mainland China       14.0     0.0        0.0\n",
              "2          2020-01-22  Mainland China        6.0     0.0        0.0\n",
              "3          2020-01-22  Mainland China        1.0     0.0        0.0\n",
              "4          2020-01-22  Mainland China        0.0     0.0        0.0\n",
              "...               ...             ...        ...     ...        ...\n",
              "83406      2020-08-09         Ukraine      937.0    22.0      652.0\n",
              "83407      2020-08-09     Netherlands      918.0    69.0        0.0\n",
              "83408      2020-08-09  Mainland China     1273.0     1.0     1268.0\n",
              "83409      2020-08-09         Ukraine     2131.0    41.0     1524.0\n",
              "83410      2020-08-09     Netherlands    14931.0  1312.0        0.0\n",
              "\n",
              "[83411 rows x 5 columns]"
            ]
          },
          "metadata": {
            "tags": []
          },
          "execution_count": 7
        }
      ]
    },
    {
      "cell_type": "markdown",
      "metadata": {
        "id": "N7yqj8oCptzG",
        "colab_type": "text"
      },
      "source": [
        "## Trabajando con groupby"
      ]
    },
    {
      "cell_type": "markdown",
      "metadata": {
        "id": "J1vbZwm-xKPO",
        "colab_type": "text"
      },
      "source": [
        "Vamos a crear un nuevo groupby, utilizaremos como indices a las fechas."
      ]
    },
    {
      "cell_type": "code",
      "metadata": {
        "id": "bhtjkv9ixDXD",
        "colab_type": "code",
        "colab": {
          "base_uri": "https://localhost:8080/",
          "height": 455
        },
        "outputId": "991a65fb-001a-48af-bfa1-503772386a8d"
      },
      "source": [
        "df_time = df.groupby('ObservationDate').sum()\n",
        "df_time"
      ],
      "execution_count": 8,
      "outputs": [
        {
          "output_type": "execute_result",
          "data": {
            "text/html": [
              "<div>\n",
              "<style scoped>\n",
              "    .dataframe tbody tr th:only-of-type {\n",
              "        vertical-align: middle;\n",
              "    }\n",
              "\n",
              "    .dataframe tbody tr th {\n",
              "        vertical-align: top;\n",
              "    }\n",
              "\n",
              "    .dataframe thead th {\n",
              "        text-align: right;\n",
              "    }\n",
              "</style>\n",
              "<table border=\"1\" class=\"dataframe\">\n",
              "  <thead>\n",
              "    <tr style=\"text-align: right;\">\n",
              "      <th></th>\n",
              "      <th>Confirmed</th>\n",
              "      <th>Deaths</th>\n",
              "      <th>Recovered</th>\n",
              "    </tr>\n",
              "    <tr>\n",
              "      <th>ObservationDate</th>\n",
              "      <th></th>\n",
              "      <th></th>\n",
              "      <th></th>\n",
              "    </tr>\n",
              "  </thead>\n",
              "  <tbody>\n",
              "    <tr>\n",
              "      <th>2020-01-22</th>\n",
              "      <td>555.0</td>\n",
              "      <td>17.0</td>\n",
              "      <td>28.0</td>\n",
              "    </tr>\n",
              "    <tr>\n",
              "      <th>2020-01-23</th>\n",
              "      <td>653.0</td>\n",
              "      <td>18.0</td>\n",
              "      <td>30.0</td>\n",
              "    </tr>\n",
              "    <tr>\n",
              "      <th>2020-01-24</th>\n",
              "      <td>941.0</td>\n",
              "      <td>26.0</td>\n",
              "      <td>36.0</td>\n",
              "    </tr>\n",
              "    <tr>\n",
              "      <th>2020-01-25</th>\n",
              "      <td>1438.0</td>\n",
              "      <td>42.0</td>\n",
              "      <td>39.0</td>\n",
              "    </tr>\n",
              "    <tr>\n",
              "      <th>2020-01-26</th>\n",
              "      <td>2118.0</td>\n",
              "      <td>56.0</td>\n",
              "      <td>52.0</td>\n",
              "    </tr>\n",
              "    <tr>\n",
              "      <th>...</th>\n",
              "      <td>...</td>\n",
              "      <td>...</td>\n",
              "      <td>...</td>\n",
              "    </tr>\n",
              "    <tr>\n",
              "      <th>2020-08-05</th>\n",
              "      <td>18811953.0</td>\n",
              "      <td>707820.0</td>\n",
              "      <td>11356275.0</td>\n",
              "    </tr>\n",
              "    <tr>\n",
              "      <th>2020-08-06</th>\n",
              "      <td>19097149.0</td>\n",
              "      <td>714940.0</td>\n",
              "      <td>11545401.0</td>\n",
              "    </tr>\n",
              "    <tr>\n",
              "      <th>2020-08-07</th>\n",
              "      <td>19378036.0</td>\n",
              "      <td>721324.0</td>\n",
              "      <td>11737927.0</td>\n",
              "    </tr>\n",
              "    <tr>\n",
              "      <th>2020-08-08</th>\n",
              "      <td>19637506.0</td>\n",
              "      <td>726781.0</td>\n",
              "      <td>11939109.0</td>\n",
              "    </tr>\n",
              "    <tr>\n",
              "      <th>2020-08-09</th>\n",
              "      <td>19861683.0</td>\n",
              "      <td>731326.0</td>\n",
              "      <td>12115825.0</td>\n",
              "    </tr>\n",
              "  </tbody>\n",
              "</table>\n",
              "<p>201 rows × 3 columns</p>\n",
              "</div>"
            ],
            "text/plain": [
              "                  Confirmed    Deaths   Recovered\n",
              "ObservationDate                                  \n",
              "2020-01-22            555.0      17.0        28.0\n",
              "2020-01-23            653.0      18.0        30.0\n",
              "2020-01-24            941.0      26.0        36.0\n",
              "2020-01-25           1438.0      42.0        39.0\n",
              "2020-01-26           2118.0      56.0        52.0\n",
              "...                     ...       ...         ...\n",
              "2020-08-05       18811953.0  707820.0  11356275.0\n",
              "2020-08-06       19097149.0  714940.0  11545401.0\n",
              "2020-08-07       19378036.0  721324.0  11737927.0\n",
              "2020-08-08       19637506.0  726781.0  11939109.0\n",
              "2020-08-09       19861683.0  731326.0  12115825.0\n",
              "\n",
              "[201 rows x 3 columns]"
            ]
          },
          "metadata": {
            "tags": []
          },
          "execution_count": 8
        }
      ]
    },
    {
      "cell_type": "markdown",
      "metadata": {
        "id": "GMMA66xQxlHH",
        "colab_type": "text"
      },
      "source": [
        "En este caso el tiempo ha quedado como el indice del dataframe"
      ]
    },
    {
      "cell_type": "code",
      "metadata": {
        "id": "0T8Bym1qxVwb",
        "colab_type": "code",
        "colab": {
          "base_uri": "https://localhost:8080/",
          "height": 139
        },
        "outputId": "3284797c-77ae-4055-efc0-1bf141d52db4"
      },
      "source": [
        "df1 = df_time['Confirmed'].iloc[10:15]\n",
        "df1"
      ],
      "execution_count": 9,
      "outputs": [
        {
          "output_type": "execute_result",
          "data": {
            "text/plain": [
              "ObservationDate\n",
              "2020-02-01    12038.0\n",
              "2020-02-02    16787.0\n",
              "2020-02-03    19881.0\n",
              "2020-02-04    23892.0\n",
              "2020-02-05    27636.0\n",
              "Name: Confirmed, dtype: float64"
            ]
          },
          "metadata": {
            "tags": []
          },
          "execution_count": 9
        }
      ]
    },
    {
      "cell_type": "code",
      "metadata": {
        "id": "MSxz6YrixzmI",
        "colab_type": "code",
        "colab": {
          "base_uri": "https://localhost:8080/",
          "height": 139
        },
        "outputId": "2d6c4063-cecb-4caf-bbed-3eeb3cb9a7ff"
      },
      "source": [
        "df2 = df_time['Deaths'].iloc[12:17]\n",
        "df2"
      ],
      "execution_count": 10,
      "outputs": [
        {
          "output_type": "execute_result",
          "data": {
            "text/plain": [
              "ObservationDate\n",
              "2020-02-03    426.0\n",
              "2020-02-04    492.0\n",
              "2020-02-05    564.0\n",
              "2020-02-06    634.0\n",
              "2020-02-07    719.0\n",
              "Name: Deaths, dtype: float64"
            ]
          },
          "metadata": {
            "tags": []
          },
          "execution_count": 10
        }
      ]
    },
    {
      "cell_type": "markdown",
      "metadata": {
        "id": "OLjlWdVRx-UP",
        "colab_type": "text"
      },
      "source": [
        "Cuando tenemos dos series con un sistema de indices por fecha podemos realizar operaciones entre las mismas"
      ]
    },
    {
      "cell_type": "code",
      "metadata": {
        "id": "PUpPtUwyx56T",
        "colab_type": "code",
        "colab": {
          "base_uri": "https://localhost:8080/",
          "height": 173
        },
        "outputId": "4d74c7ec-6e70-4f88-ebf3-46eb52a8fe8b"
      },
      "source": [
        "df1 - df2"
      ],
      "execution_count": 11,
      "outputs": [
        {
          "output_type": "execute_result",
          "data": {
            "text/plain": [
              "ObservationDate\n",
              "2020-02-01        NaN\n",
              "2020-02-02        NaN\n",
              "2020-02-03    19455.0\n",
              "2020-02-04    23400.0\n",
              "2020-02-05    27072.0\n",
              "2020-02-06        NaN\n",
              "2020-02-07        NaN\n",
              "dtype: float64"
            ]
          },
          "metadata": {
            "tags": []
          },
          "execution_count": 11
        }
      ]
    },
    {
      "cell_type": "markdown",
      "metadata": {
        "id": "1qlhD-T0qwbi",
        "colab_type": "text"
      },
      "source": [
        "## Agregando datos faltantes iniciales."
      ]
    },
    {
      "cell_type": "markdown",
      "metadata": {
        "id": "YsFbBqo0ygbK",
        "colab_type": "text"
      },
      "source": [
        "Ahora queremos ver como ha ido aumentando dia tras dia la cifra del covid"
      ]
    },
    {
      "cell_type": "code",
      "metadata": {
        "id": "Rn4v6WQHyMeh",
        "colab_type": "code",
        "colab": {
          "base_uri": "https://localhost:8080/",
          "height": 455
        },
        "outputId": "18fb1fd0-ba96-47c9-dc67-68234e5aa393"
      },
      "source": [
        "df_time"
      ],
      "execution_count": 12,
      "outputs": [
        {
          "output_type": "execute_result",
          "data": {
            "text/html": [
              "<div>\n",
              "<style scoped>\n",
              "    .dataframe tbody tr th:only-of-type {\n",
              "        vertical-align: middle;\n",
              "    }\n",
              "\n",
              "    .dataframe tbody tr th {\n",
              "        vertical-align: top;\n",
              "    }\n",
              "\n",
              "    .dataframe thead th {\n",
              "        text-align: right;\n",
              "    }\n",
              "</style>\n",
              "<table border=\"1\" class=\"dataframe\">\n",
              "  <thead>\n",
              "    <tr style=\"text-align: right;\">\n",
              "      <th></th>\n",
              "      <th>Confirmed</th>\n",
              "      <th>Deaths</th>\n",
              "      <th>Recovered</th>\n",
              "    </tr>\n",
              "    <tr>\n",
              "      <th>ObservationDate</th>\n",
              "      <th></th>\n",
              "      <th></th>\n",
              "      <th></th>\n",
              "    </tr>\n",
              "  </thead>\n",
              "  <tbody>\n",
              "    <tr>\n",
              "      <th>2020-01-22</th>\n",
              "      <td>555.0</td>\n",
              "      <td>17.0</td>\n",
              "      <td>28.0</td>\n",
              "    </tr>\n",
              "    <tr>\n",
              "      <th>2020-01-23</th>\n",
              "      <td>653.0</td>\n",
              "      <td>18.0</td>\n",
              "      <td>30.0</td>\n",
              "    </tr>\n",
              "    <tr>\n",
              "      <th>2020-01-24</th>\n",
              "      <td>941.0</td>\n",
              "      <td>26.0</td>\n",
              "      <td>36.0</td>\n",
              "    </tr>\n",
              "    <tr>\n",
              "      <th>2020-01-25</th>\n",
              "      <td>1438.0</td>\n",
              "      <td>42.0</td>\n",
              "      <td>39.0</td>\n",
              "    </tr>\n",
              "    <tr>\n",
              "      <th>2020-01-26</th>\n",
              "      <td>2118.0</td>\n",
              "      <td>56.0</td>\n",
              "      <td>52.0</td>\n",
              "    </tr>\n",
              "    <tr>\n",
              "      <th>...</th>\n",
              "      <td>...</td>\n",
              "      <td>...</td>\n",
              "      <td>...</td>\n",
              "    </tr>\n",
              "    <tr>\n",
              "      <th>2020-08-05</th>\n",
              "      <td>18811953.0</td>\n",
              "      <td>707820.0</td>\n",
              "      <td>11356275.0</td>\n",
              "    </tr>\n",
              "    <tr>\n",
              "      <th>2020-08-06</th>\n",
              "      <td>19097149.0</td>\n",
              "      <td>714940.0</td>\n",
              "      <td>11545401.0</td>\n",
              "    </tr>\n",
              "    <tr>\n",
              "      <th>2020-08-07</th>\n",
              "      <td>19378036.0</td>\n",
              "      <td>721324.0</td>\n",
              "      <td>11737927.0</td>\n",
              "    </tr>\n",
              "    <tr>\n",
              "      <th>2020-08-08</th>\n",
              "      <td>19637506.0</td>\n",
              "      <td>726781.0</td>\n",
              "      <td>11939109.0</td>\n",
              "    </tr>\n",
              "    <tr>\n",
              "      <th>2020-08-09</th>\n",
              "      <td>19861683.0</td>\n",
              "      <td>731326.0</td>\n",
              "      <td>12115825.0</td>\n",
              "    </tr>\n",
              "  </tbody>\n",
              "</table>\n",
              "<p>201 rows × 3 columns</p>\n",
              "</div>"
            ],
            "text/plain": [
              "                  Confirmed    Deaths   Recovered\n",
              "ObservationDate                                  \n",
              "2020-01-22            555.0      17.0        28.0\n",
              "2020-01-23            653.0      18.0        30.0\n",
              "2020-01-24            941.0      26.0        36.0\n",
              "2020-01-25           1438.0      42.0        39.0\n",
              "2020-01-26           2118.0      56.0        52.0\n",
              "...                     ...       ...         ...\n",
              "2020-08-05       18811953.0  707820.0  11356275.0\n",
              "2020-08-06       19097149.0  714940.0  11545401.0\n",
              "2020-08-07       19378036.0  721324.0  11737927.0\n",
              "2020-08-08       19637506.0  726781.0  11939109.0\n",
              "2020-08-09       19861683.0  731326.0  12115825.0\n",
              "\n",
              "[201 rows x 3 columns]"
            ]
          },
          "metadata": {
            "tags": []
          },
          "execution_count": 12
        }
      ]
    },
    {
      "cell_type": "code",
      "metadata": {
        "id": "Vps-T3B4ySZh",
        "colab_type": "code",
        "colab": {
          "base_uri": "https://localhost:8080/",
          "height": 455
        },
        "outputId": "1e388b82-1631-4e13-8e5a-a7cf01aa16f6"
      },
      "source": [
        "df_time.diff()"
      ],
      "execution_count": 13,
      "outputs": [
        {
          "output_type": "execute_result",
          "data": {
            "text/html": [
              "<div>\n",
              "<style scoped>\n",
              "    .dataframe tbody tr th:only-of-type {\n",
              "        vertical-align: middle;\n",
              "    }\n",
              "\n",
              "    .dataframe tbody tr th {\n",
              "        vertical-align: top;\n",
              "    }\n",
              "\n",
              "    .dataframe thead th {\n",
              "        text-align: right;\n",
              "    }\n",
              "</style>\n",
              "<table border=\"1\" class=\"dataframe\">\n",
              "  <thead>\n",
              "    <tr style=\"text-align: right;\">\n",
              "      <th></th>\n",
              "      <th>Confirmed</th>\n",
              "      <th>Deaths</th>\n",
              "      <th>Recovered</th>\n",
              "    </tr>\n",
              "    <tr>\n",
              "      <th>ObservationDate</th>\n",
              "      <th></th>\n",
              "      <th></th>\n",
              "      <th></th>\n",
              "    </tr>\n",
              "  </thead>\n",
              "  <tbody>\n",
              "    <tr>\n",
              "      <th>2020-01-22</th>\n",
              "      <td>NaN</td>\n",
              "      <td>NaN</td>\n",
              "      <td>NaN</td>\n",
              "    </tr>\n",
              "    <tr>\n",
              "      <th>2020-01-23</th>\n",
              "      <td>98.0</td>\n",
              "      <td>1.0</td>\n",
              "      <td>2.0</td>\n",
              "    </tr>\n",
              "    <tr>\n",
              "      <th>2020-01-24</th>\n",
              "      <td>288.0</td>\n",
              "      <td>8.0</td>\n",
              "      <td>6.0</td>\n",
              "    </tr>\n",
              "    <tr>\n",
              "      <th>2020-01-25</th>\n",
              "      <td>497.0</td>\n",
              "      <td>16.0</td>\n",
              "      <td>3.0</td>\n",
              "    </tr>\n",
              "    <tr>\n",
              "      <th>2020-01-26</th>\n",
              "      <td>680.0</td>\n",
              "      <td>14.0</td>\n",
              "      <td>13.0</td>\n",
              "    </tr>\n",
              "    <tr>\n",
              "      <th>...</th>\n",
              "      <td>...</td>\n",
              "      <td>...</td>\n",
              "      <td>...</td>\n",
              "    </tr>\n",
              "    <tr>\n",
              "      <th>2020-08-05</th>\n",
              "      <td>271164.0</td>\n",
              "      <td>7084.0</td>\n",
              "      <td>221540.0</td>\n",
              "    </tr>\n",
              "    <tr>\n",
              "      <th>2020-08-06</th>\n",
              "      <td>285196.0</td>\n",
              "      <td>7120.0</td>\n",
              "      <td>189126.0</td>\n",
              "    </tr>\n",
              "    <tr>\n",
              "      <th>2020-08-07</th>\n",
              "      <td>280887.0</td>\n",
              "      <td>6384.0</td>\n",
              "      <td>192526.0</td>\n",
              "    </tr>\n",
              "    <tr>\n",
              "      <th>2020-08-08</th>\n",
              "      <td>259470.0</td>\n",
              "      <td>5457.0</td>\n",
              "      <td>201182.0</td>\n",
              "    </tr>\n",
              "    <tr>\n",
              "      <th>2020-08-09</th>\n",
              "      <td>224177.0</td>\n",
              "      <td>4545.0</td>\n",
              "      <td>176716.0</td>\n",
              "    </tr>\n",
              "  </tbody>\n",
              "</table>\n",
              "<p>201 rows × 3 columns</p>\n",
              "</div>"
            ],
            "text/plain": [
              "                 Confirmed  Deaths  Recovered\n",
              "ObservationDate                              \n",
              "2020-01-22             NaN     NaN        NaN\n",
              "2020-01-23            98.0     1.0        2.0\n",
              "2020-01-24           288.0     8.0        6.0\n",
              "2020-01-25           497.0    16.0        3.0\n",
              "2020-01-26           680.0    14.0       13.0\n",
              "...                    ...     ...        ...\n",
              "2020-08-05        271164.0  7084.0   221540.0\n",
              "2020-08-06        285196.0  7120.0   189126.0\n",
              "2020-08-07        280887.0  6384.0   192526.0\n",
              "2020-08-08        259470.0  5457.0   201182.0\n",
              "2020-08-09        224177.0  4545.0   176716.0\n",
              "\n",
              "[201 rows x 3 columns]"
            ]
          },
          "metadata": {
            "tags": []
          },
          "execution_count": 13
        }
      ]
    },
    {
      "cell_type": "markdown",
      "metadata": {
        "id": "WofnhE4yy3-a",
        "colab_type": "text"
      },
      "source": [
        "Incluso podriamos ver el promedio de coronavirus por dia hasta la fecha."
      ]
    },
    {
      "cell_type": "code",
      "metadata": {
        "id": "DNVKuWNVy3gC",
        "colab_type": "code",
        "colab": {
          "base_uri": "https://localhost:8080/",
          "height": 86
        },
        "outputId": "3e8ffa53-af64-46b3-e22a-bea35f2052dc"
      },
      "source": [
        "df_time.diff().mean()"
      ],
      "execution_count": 14,
      "outputs": [
        {
          "output_type": "execute_result",
          "data": {
            "text/plain": [
              "Confirmed    99305.640\n",
              "Deaths        3656.545\n",
              "Recovered    60578.985\n",
              "dtype: float64"
            ]
          },
          "metadata": {
            "tags": []
          },
          "execution_count": 14
        }
      ]
    },
    {
      "cell_type": "markdown",
      "metadata": {
        "id": "F_6-8qh6zrEB",
        "colab_type": "text"
      },
      "source": [
        "En el dataframe que creamos la primer fila la tenemos con valores nulos ya que la función diff() el valor de la fila con el anterior, y como la primera no tiene con quien restar el valor es NaN."
      ]
    },
    {
      "cell_type": "code",
      "metadata": {
        "id": "SCyoNDzXyp_E",
        "colab_type": "code",
        "colab": {
          "base_uri": "https://localhost:8080/",
          "height": 455
        },
        "outputId": "b1edd4e5-507e-4213-f668-e57d009fb30c"
      },
      "source": [
        "df_diff = df_time.diff()\n",
        "df_diff"
      ],
      "execution_count": 15,
      "outputs": [
        {
          "output_type": "execute_result",
          "data": {
            "text/html": [
              "<div>\n",
              "<style scoped>\n",
              "    .dataframe tbody tr th:only-of-type {\n",
              "        vertical-align: middle;\n",
              "    }\n",
              "\n",
              "    .dataframe tbody tr th {\n",
              "        vertical-align: top;\n",
              "    }\n",
              "\n",
              "    .dataframe thead th {\n",
              "        text-align: right;\n",
              "    }\n",
              "</style>\n",
              "<table border=\"1\" class=\"dataframe\">\n",
              "  <thead>\n",
              "    <tr style=\"text-align: right;\">\n",
              "      <th></th>\n",
              "      <th>Confirmed</th>\n",
              "      <th>Deaths</th>\n",
              "      <th>Recovered</th>\n",
              "    </tr>\n",
              "    <tr>\n",
              "      <th>ObservationDate</th>\n",
              "      <th></th>\n",
              "      <th></th>\n",
              "      <th></th>\n",
              "    </tr>\n",
              "  </thead>\n",
              "  <tbody>\n",
              "    <tr>\n",
              "      <th>2020-01-22</th>\n",
              "      <td>NaN</td>\n",
              "      <td>NaN</td>\n",
              "      <td>NaN</td>\n",
              "    </tr>\n",
              "    <tr>\n",
              "      <th>2020-01-23</th>\n",
              "      <td>98.0</td>\n",
              "      <td>1.0</td>\n",
              "      <td>2.0</td>\n",
              "    </tr>\n",
              "    <tr>\n",
              "      <th>2020-01-24</th>\n",
              "      <td>288.0</td>\n",
              "      <td>8.0</td>\n",
              "      <td>6.0</td>\n",
              "    </tr>\n",
              "    <tr>\n",
              "      <th>2020-01-25</th>\n",
              "      <td>497.0</td>\n",
              "      <td>16.0</td>\n",
              "      <td>3.0</td>\n",
              "    </tr>\n",
              "    <tr>\n",
              "      <th>2020-01-26</th>\n",
              "      <td>680.0</td>\n",
              "      <td>14.0</td>\n",
              "      <td>13.0</td>\n",
              "    </tr>\n",
              "    <tr>\n",
              "      <th>...</th>\n",
              "      <td>...</td>\n",
              "      <td>...</td>\n",
              "      <td>...</td>\n",
              "    </tr>\n",
              "    <tr>\n",
              "      <th>2020-08-05</th>\n",
              "      <td>271164.0</td>\n",
              "      <td>7084.0</td>\n",
              "      <td>221540.0</td>\n",
              "    </tr>\n",
              "    <tr>\n",
              "      <th>2020-08-06</th>\n",
              "      <td>285196.0</td>\n",
              "      <td>7120.0</td>\n",
              "      <td>189126.0</td>\n",
              "    </tr>\n",
              "    <tr>\n",
              "      <th>2020-08-07</th>\n",
              "      <td>280887.0</td>\n",
              "      <td>6384.0</td>\n",
              "      <td>192526.0</td>\n",
              "    </tr>\n",
              "    <tr>\n",
              "      <th>2020-08-08</th>\n",
              "      <td>259470.0</td>\n",
              "      <td>5457.0</td>\n",
              "      <td>201182.0</td>\n",
              "    </tr>\n",
              "    <tr>\n",
              "      <th>2020-08-09</th>\n",
              "      <td>224177.0</td>\n",
              "      <td>4545.0</td>\n",
              "      <td>176716.0</td>\n",
              "    </tr>\n",
              "  </tbody>\n",
              "</table>\n",
              "<p>201 rows × 3 columns</p>\n",
              "</div>"
            ],
            "text/plain": [
              "                 Confirmed  Deaths  Recovered\n",
              "ObservationDate                              \n",
              "2020-01-22             NaN     NaN        NaN\n",
              "2020-01-23            98.0     1.0        2.0\n",
              "2020-01-24           288.0     8.0        6.0\n",
              "2020-01-25           497.0    16.0        3.0\n",
              "2020-01-26           680.0    14.0       13.0\n",
              "...                    ...     ...        ...\n",
              "2020-08-05        271164.0  7084.0   221540.0\n",
              "2020-08-06        285196.0  7120.0   189126.0\n",
              "2020-08-07        280887.0  6384.0   192526.0\n",
              "2020-08-08        259470.0  5457.0   201182.0\n",
              "2020-08-09        224177.0  4545.0   176716.0\n",
              "\n",
              "[201 rows x 3 columns]"
            ]
          },
          "metadata": {
            "tags": []
          },
          "execution_count": 15
        }
      ]
    },
    {
      "cell_type": "markdown",
      "metadata": {
        "id": "MKzGzs0Wz6L6",
        "colab_type": "text"
      },
      "source": [
        "Vamos a usar fillna() para completar el registro"
      ]
    },
    {
      "cell_type": "code",
      "metadata": {
        "id": "yeY6qURjz03_",
        "colab_type": "code",
        "colab": {
          "base_uri": "https://localhost:8080/",
          "height": 112
        },
        "outputId": "f3c05dcd-4e46-4ff6-dd0c-882e3ed618fd"
      },
      "source": [
        "df_time.head(1)"
      ],
      "execution_count": 16,
      "outputs": [
        {
          "output_type": "execute_result",
          "data": {
            "text/html": [
              "<div>\n",
              "<style scoped>\n",
              "    .dataframe tbody tr th:only-of-type {\n",
              "        vertical-align: middle;\n",
              "    }\n",
              "\n",
              "    .dataframe tbody tr th {\n",
              "        vertical-align: top;\n",
              "    }\n",
              "\n",
              "    .dataframe thead th {\n",
              "        text-align: right;\n",
              "    }\n",
              "</style>\n",
              "<table border=\"1\" class=\"dataframe\">\n",
              "  <thead>\n",
              "    <tr style=\"text-align: right;\">\n",
              "      <th></th>\n",
              "      <th>Confirmed</th>\n",
              "      <th>Deaths</th>\n",
              "      <th>Recovered</th>\n",
              "    </tr>\n",
              "    <tr>\n",
              "      <th>ObservationDate</th>\n",
              "      <th></th>\n",
              "      <th></th>\n",
              "      <th></th>\n",
              "    </tr>\n",
              "  </thead>\n",
              "  <tbody>\n",
              "    <tr>\n",
              "      <th>2020-01-22</th>\n",
              "      <td>555.0</td>\n",
              "      <td>17.0</td>\n",
              "      <td>28.0</td>\n",
              "    </tr>\n",
              "  </tbody>\n",
              "</table>\n",
              "</div>"
            ],
            "text/plain": [
              "                 Confirmed  Deaths  Recovered\n",
              "ObservationDate                              \n",
              "2020-01-22           555.0    17.0       28.0"
            ]
          },
          "metadata": {
            "tags": []
          },
          "execution_count": 16
        }
      ]
    },
    {
      "cell_type": "markdown",
      "metadata": {
        "id": "wYuimoQV0T1l",
        "colab_type": "text"
      },
      "source": [
        "Generamos un diccionario con el registro para meterlo en el dataframe creado, lo copiamos y lo modificamos."
      ]
    },
    {
      "cell_type": "code",
      "metadata": {
        "id": "8r_zrwR00Ngo",
        "colab_type": "code",
        "colab": {
          "base_uri": "https://localhost:8080/",
          "height": 69
        },
        "outputId": "4aeb038b-7dbc-4965-95be-d51e3cfa0262"
      },
      "source": [
        "df_time.head(1).to_dict()"
      ],
      "execution_count": 17,
      "outputs": [
        {
          "output_type": "execute_result",
          "data": {
            "text/plain": [
              "{'Confirmed': {Timestamp('2020-01-22 00:00:00'): 555.0},\n",
              " 'Deaths': {Timestamp('2020-01-22 00:00:00'): 17.0},\n",
              " 'Recovered': {Timestamp('2020-01-22 00:00:00'): 28.0}}"
            ]
          },
          "metadata": {
            "tags": []
          },
          "execution_count": 17
        }
      ]
    },
    {
      "cell_type": "code",
      "metadata": {
        "id": "sW8FHw_60Sgn",
        "colab_type": "code",
        "colab": {}
      },
      "source": [
        "df_diff = df_diff.fillna(\n",
        "    {'Confirmed': 555.0,\n",
        "     'Deaths': 17.0,\n",
        "     'Recovered': 28.0})"
      ],
      "execution_count": 18,
      "outputs": []
    },
    {
      "cell_type": "markdown",
      "metadata": {
        "id": "DdalVJehMWo8",
        "colab_type": "text"
      },
      "source": [
        "Ahora podemos ver el dataframe con el data faltante"
      ]
    },
    {
      "cell_type": "code",
      "metadata": {
        "id": "U_H_5A9LMSt0",
        "colab_type": "code",
        "colab": {
          "base_uri": "https://localhost:8080/",
          "height": 455
        },
        "outputId": "f0f896e4-e0e5-4c92-cd95-1d05f2085ecb"
      },
      "source": [
        "df_diff"
      ],
      "execution_count": 19,
      "outputs": [
        {
          "output_type": "execute_result",
          "data": {
            "text/html": [
              "<div>\n",
              "<style scoped>\n",
              "    .dataframe tbody tr th:only-of-type {\n",
              "        vertical-align: middle;\n",
              "    }\n",
              "\n",
              "    .dataframe tbody tr th {\n",
              "        vertical-align: top;\n",
              "    }\n",
              "\n",
              "    .dataframe thead th {\n",
              "        text-align: right;\n",
              "    }\n",
              "</style>\n",
              "<table border=\"1\" class=\"dataframe\">\n",
              "  <thead>\n",
              "    <tr style=\"text-align: right;\">\n",
              "      <th></th>\n",
              "      <th>Confirmed</th>\n",
              "      <th>Deaths</th>\n",
              "      <th>Recovered</th>\n",
              "    </tr>\n",
              "    <tr>\n",
              "      <th>ObservationDate</th>\n",
              "      <th></th>\n",
              "      <th></th>\n",
              "      <th></th>\n",
              "    </tr>\n",
              "  </thead>\n",
              "  <tbody>\n",
              "    <tr>\n",
              "      <th>2020-01-22</th>\n",
              "      <td>555.0</td>\n",
              "      <td>17.0</td>\n",
              "      <td>28.0</td>\n",
              "    </tr>\n",
              "    <tr>\n",
              "      <th>2020-01-23</th>\n",
              "      <td>98.0</td>\n",
              "      <td>1.0</td>\n",
              "      <td>2.0</td>\n",
              "    </tr>\n",
              "    <tr>\n",
              "      <th>2020-01-24</th>\n",
              "      <td>288.0</td>\n",
              "      <td>8.0</td>\n",
              "      <td>6.0</td>\n",
              "    </tr>\n",
              "    <tr>\n",
              "      <th>2020-01-25</th>\n",
              "      <td>497.0</td>\n",
              "      <td>16.0</td>\n",
              "      <td>3.0</td>\n",
              "    </tr>\n",
              "    <tr>\n",
              "      <th>2020-01-26</th>\n",
              "      <td>680.0</td>\n",
              "      <td>14.0</td>\n",
              "      <td>13.0</td>\n",
              "    </tr>\n",
              "    <tr>\n",
              "      <th>...</th>\n",
              "      <td>...</td>\n",
              "      <td>...</td>\n",
              "      <td>...</td>\n",
              "    </tr>\n",
              "    <tr>\n",
              "      <th>2020-08-05</th>\n",
              "      <td>271164.0</td>\n",
              "      <td>7084.0</td>\n",
              "      <td>221540.0</td>\n",
              "    </tr>\n",
              "    <tr>\n",
              "      <th>2020-08-06</th>\n",
              "      <td>285196.0</td>\n",
              "      <td>7120.0</td>\n",
              "      <td>189126.0</td>\n",
              "    </tr>\n",
              "    <tr>\n",
              "      <th>2020-08-07</th>\n",
              "      <td>280887.0</td>\n",
              "      <td>6384.0</td>\n",
              "      <td>192526.0</td>\n",
              "    </tr>\n",
              "    <tr>\n",
              "      <th>2020-08-08</th>\n",
              "      <td>259470.0</td>\n",
              "      <td>5457.0</td>\n",
              "      <td>201182.0</td>\n",
              "    </tr>\n",
              "    <tr>\n",
              "      <th>2020-08-09</th>\n",
              "      <td>224177.0</td>\n",
              "      <td>4545.0</td>\n",
              "      <td>176716.0</td>\n",
              "    </tr>\n",
              "  </tbody>\n",
              "</table>\n",
              "<p>201 rows × 3 columns</p>\n",
              "</div>"
            ],
            "text/plain": [
              "                 Confirmed  Deaths  Recovered\n",
              "ObservationDate                              \n",
              "2020-01-22           555.0    17.0       28.0\n",
              "2020-01-23            98.0     1.0        2.0\n",
              "2020-01-24           288.0     8.0        6.0\n",
              "2020-01-25           497.0    16.0        3.0\n",
              "2020-01-26           680.0    14.0       13.0\n",
              "...                    ...     ...        ...\n",
              "2020-08-05        271164.0  7084.0   221540.0\n",
              "2020-08-06        285196.0  7120.0   189126.0\n",
              "2020-08-07        280887.0  6384.0   192526.0\n",
              "2020-08-08        259470.0  5457.0   201182.0\n",
              "2020-08-09        224177.0  4545.0   176716.0\n",
              "\n",
              "[201 rows x 3 columns]"
            ]
          },
          "metadata": {
            "tags": []
          },
          "execution_count": 19
        }
      ]
    },
    {
      "cell_type": "markdown",
      "metadata": {
        "id": "e0NN3jXjMb_6",
        "colab_type": "text"
      },
      "source": [
        "Y podemos ver las suma acumulativa "
      ]
    },
    {
      "cell_type": "code",
      "metadata": {
        "id": "6gqiPUqs0yzC",
        "colab_type": "code",
        "colab": {
          "base_uri": "https://localhost:8080/",
          "height": 455
        },
        "outputId": "d273cef7-6d21-4ba5-9af5-748e3f5fd8a3"
      },
      "source": [
        "df_diff.cumsum()"
      ],
      "execution_count": 20,
      "outputs": [
        {
          "output_type": "execute_result",
          "data": {
            "text/html": [
              "<div>\n",
              "<style scoped>\n",
              "    .dataframe tbody tr th:only-of-type {\n",
              "        vertical-align: middle;\n",
              "    }\n",
              "\n",
              "    .dataframe tbody tr th {\n",
              "        vertical-align: top;\n",
              "    }\n",
              "\n",
              "    .dataframe thead th {\n",
              "        text-align: right;\n",
              "    }\n",
              "</style>\n",
              "<table border=\"1\" class=\"dataframe\">\n",
              "  <thead>\n",
              "    <tr style=\"text-align: right;\">\n",
              "      <th></th>\n",
              "      <th>Confirmed</th>\n",
              "      <th>Deaths</th>\n",
              "      <th>Recovered</th>\n",
              "    </tr>\n",
              "    <tr>\n",
              "      <th>ObservationDate</th>\n",
              "      <th></th>\n",
              "      <th></th>\n",
              "      <th></th>\n",
              "    </tr>\n",
              "  </thead>\n",
              "  <tbody>\n",
              "    <tr>\n",
              "      <th>2020-01-22</th>\n",
              "      <td>555.0</td>\n",
              "      <td>17.0</td>\n",
              "      <td>28.0</td>\n",
              "    </tr>\n",
              "    <tr>\n",
              "      <th>2020-01-23</th>\n",
              "      <td>653.0</td>\n",
              "      <td>18.0</td>\n",
              "      <td>30.0</td>\n",
              "    </tr>\n",
              "    <tr>\n",
              "      <th>2020-01-24</th>\n",
              "      <td>941.0</td>\n",
              "      <td>26.0</td>\n",
              "      <td>36.0</td>\n",
              "    </tr>\n",
              "    <tr>\n",
              "      <th>2020-01-25</th>\n",
              "      <td>1438.0</td>\n",
              "      <td>42.0</td>\n",
              "      <td>39.0</td>\n",
              "    </tr>\n",
              "    <tr>\n",
              "      <th>2020-01-26</th>\n",
              "      <td>2118.0</td>\n",
              "      <td>56.0</td>\n",
              "      <td>52.0</td>\n",
              "    </tr>\n",
              "    <tr>\n",
              "      <th>...</th>\n",
              "      <td>...</td>\n",
              "      <td>...</td>\n",
              "      <td>...</td>\n",
              "    </tr>\n",
              "    <tr>\n",
              "      <th>2020-08-05</th>\n",
              "      <td>18811953.0</td>\n",
              "      <td>707820.0</td>\n",
              "      <td>11356275.0</td>\n",
              "    </tr>\n",
              "    <tr>\n",
              "      <th>2020-08-06</th>\n",
              "      <td>19097149.0</td>\n",
              "      <td>714940.0</td>\n",
              "      <td>11545401.0</td>\n",
              "    </tr>\n",
              "    <tr>\n",
              "      <th>2020-08-07</th>\n",
              "      <td>19378036.0</td>\n",
              "      <td>721324.0</td>\n",
              "      <td>11737927.0</td>\n",
              "    </tr>\n",
              "    <tr>\n",
              "      <th>2020-08-08</th>\n",
              "      <td>19637506.0</td>\n",
              "      <td>726781.0</td>\n",
              "      <td>11939109.0</td>\n",
              "    </tr>\n",
              "    <tr>\n",
              "      <th>2020-08-09</th>\n",
              "      <td>19861683.0</td>\n",
              "      <td>731326.0</td>\n",
              "      <td>12115825.0</td>\n",
              "    </tr>\n",
              "  </tbody>\n",
              "</table>\n",
              "<p>201 rows × 3 columns</p>\n",
              "</div>"
            ],
            "text/plain": [
              "                  Confirmed    Deaths   Recovered\n",
              "ObservationDate                                  \n",
              "2020-01-22            555.0      17.0        28.0\n",
              "2020-01-23            653.0      18.0        30.0\n",
              "2020-01-24            941.0      26.0        36.0\n",
              "2020-01-25           1438.0      42.0        39.0\n",
              "2020-01-26           2118.0      56.0        52.0\n",
              "...                     ...       ...         ...\n",
              "2020-08-05       18811953.0  707820.0  11356275.0\n",
              "2020-08-06       19097149.0  714940.0  11545401.0\n",
              "2020-08-07       19378036.0  721324.0  11737927.0\n",
              "2020-08-08       19637506.0  726781.0  11939109.0\n",
              "2020-08-09       19861683.0  731326.0  12115825.0\n",
              "\n",
              "[201 rows x 3 columns]"
            ]
          },
          "metadata": {
            "tags": []
          },
          "execution_count": 20
        }
      ]
    },
    {
      "cell_type": "markdown",
      "metadata": {
        "id": "4Klai2j7qEHq",
        "colab_type": "text"
      },
      "source": [
        "## Extrayendo valor estadistico del dataframe"
      ]
    },
    {
      "cell_type": "markdown",
      "metadata": {
        "id": "HGOvKh1aM9hU",
        "colab_type": "text"
      },
      "source": [
        "Con **resample** podemos hacer algunas estimaciones estadisticas.\n",
        "Veremos la como utilizar función **resample** en **series de tiempo** para extraer **valor estadistico** de nuestros datos. Como ha ido cambiando el numero de casos observados dada una frecuencia determinada, como el mes o la semana.\n",
        "\n",
        "Puedo ver los casos cada 7 dias, por ejemplo."
      ]
    },
    {
      "cell_type": "code",
      "metadata": {
        "id": "S6qx1elN0_Z3",
        "colab_type": "code",
        "colab": {
          "base_uri": "https://localhost:8080/",
          "height": 990
        },
        "outputId": "480f203a-fdb1-4eaa-bc87-15b73d51398a"
      },
      "source": [
        "df_diff.resample('7D').sum()"
      ],
      "execution_count": 21,
      "outputs": [
        {
          "output_type": "execute_result",
          "data": {
            "text/html": [
              "<div>\n",
              "<style scoped>\n",
              "    .dataframe tbody tr th:only-of-type {\n",
              "        vertical-align: middle;\n",
              "    }\n",
              "\n",
              "    .dataframe tbody tr th {\n",
              "        vertical-align: top;\n",
              "    }\n",
              "\n",
              "    .dataframe thead th {\n",
              "        text-align: right;\n",
              "    }\n",
              "</style>\n",
              "<table border=\"1\" class=\"dataframe\">\n",
              "  <thead>\n",
              "    <tr style=\"text-align: right;\">\n",
              "      <th></th>\n",
              "      <th>Confirmed</th>\n",
              "      <th>Deaths</th>\n",
              "      <th>Recovered</th>\n",
              "    </tr>\n",
              "    <tr>\n",
              "      <th>ObservationDate</th>\n",
              "      <th></th>\n",
              "      <th></th>\n",
              "      <th></th>\n",
              "    </tr>\n",
              "  </thead>\n",
              "  <tbody>\n",
              "    <tr>\n",
              "      <th>2020-01-22</th>\n",
              "      <td>5578.0</td>\n",
              "      <td>131.0</td>\n",
              "      <td>107.0</td>\n",
              "    </tr>\n",
              "    <tr>\n",
              "      <th>2020-01-29</th>\n",
              "      <td>18314.0</td>\n",
              "      <td>361.0</td>\n",
              "      <td>745.0</td>\n",
              "    </tr>\n",
              "    <tr>\n",
              "      <th>2020-02-05</th>\n",
              "      <td>20911.0</td>\n",
              "      <td>621.0</td>\n",
              "      <td>3831.0</td>\n",
              "    </tr>\n",
              "    <tr>\n",
              "      <th>2020-02-12</th>\n",
              "      <td>30335.0</td>\n",
              "      <td>894.0</td>\n",
              "      <td>9669.0</td>\n",
              "    </tr>\n",
              "    <tr>\n",
              "      <th>2020-02-19</th>\n",
              "      <td>5277.0</td>\n",
              "      <td>701.0</td>\n",
              "      <td>13553.0</td>\n",
              "    </tr>\n",
              "    <tr>\n",
              "      <th>2020-02-26</th>\n",
              "      <td>12429.0</td>\n",
              "      <td>452.0</td>\n",
              "      <td>20324.0</td>\n",
              "    </tr>\n",
              "    <tr>\n",
              "      <th>2020-03-04</th>\n",
              "      <td>25738.0</td>\n",
              "      <td>1102.0</td>\n",
              "      <td>16175.0</td>\n",
              "    </tr>\n",
              "    <tr>\n",
              "      <th>2020-03-11</th>\n",
              "      <td>78586.0</td>\n",
              "      <td>3643.0</td>\n",
              "      <td>16436.0</td>\n",
              "    </tr>\n",
              "    <tr>\n",
              "      <th>2020-03-18</th>\n",
              "      <td>220794.0</td>\n",
              "      <td>10710.0</td>\n",
              "      <td>26859.0</td>\n",
              "    </tr>\n",
              "    <tr>\n",
              "      <th>2020-03-25</th>\n",
              "      <td>439525.0</td>\n",
              "      <td>23492.0</td>\n",
              "      <td>70329.0</td>\n",
              "    </tr>\n",
              "    <tr>\n",
              "      <th>2020-04-01</th>\n",
              "      <td>568609.0</td>\n",
              "      <td>39758.0</td>\n",
              "      <td>122026.0</td>\n",
              "    </tr>\n",
              "    <tr>\n",
              "      <th>2020-04-08</th>\n",
              "      <td>550096.0</td>\n",
              "      <td>44119.0</td>\n",
              "      <td>174207.0</td>\n",
              "    </tr>\n",
              "    <tr>\n",
              "      <th>2020-04-15</th>\n",
              "      <td>572931.0</td>\n",
              "      <td>50599.0</td>\n",
              "      <td>205558.0</td>\n",
              "    </tr>\n",
              "    <tr>\n",
              "      <th>2020-04-22</th>\n",
              "      <td>567275.0</td>\n",
              "      <td>40570.0</td>\n",
              "      <td>248839.0</td>\n",
              "    </tr>\n",
              "    <tr>\n",
              "      <th>2020-04-29</th>\n",
              "      <td>546293.0</td>\n",
              "      <td>40086.0</td>\n",
              "      <td>270174.0</td>\n",
              "    </tr>\n",
              "    <tr>\n",
              "      <th>2020-05-06</th>\n",
              "      <td>599264.0</td>\n",
              "      <td>34725.0</td>\n",
              "      <td>294582.0</td>\n",
              "    </tr>\n",
              "    <tr>\n",
              "      <th>2020-05-13</th>\n",
              "      <td>635537.0</td>\n",
              "      <td>31321.0</td>\n",
              "      <td>345581.0</td>\n",
              "    </tr>\n",
              "    <tr>\n",
              "      <th>2020-05-20</th>\n",
              "      <td>692134.0</td>\n",
              "      <td>27168.0</td>\n",
              "      <td>447961.0</td>\n",
              "    </tr>\n",
              "    <tr>\n",
              "      <th>2020-05-27</th>\n",
              "      <td>796738.0</td>\n",
              "      <td>29930.0</td>\n",
              "      <td>442571.0</td>\n",
              "    </tr>\n",
              "    <tr>\n",
              "      <th>2020-06-03</th>\n",
              "      <td>855949.0</td>\n",
              "      <td>31053.0</td>\n",
              "      <td>646146.0</td>\n",
              "    </tr>\n",
              "    <tr>\n",
              "      <th>2020-06-10</th>\n",
              "      <td>931627.0</td>\n",
              "      <td>32249.0</td>\n",
              "      <td>579496.0</td>\n",
              "    </tr>\n",
              "    <tr>\n",
              "      <th>2020-06-17</th>\n",
              "      <td>1089526.0</td>\n",
              "      <td>33899.0</td>\n",
              "      <td>675222.0</td>\n",
              "    </tr>\n",
              "    <tr>\n",
              "      <th>2020-06-24</th>\n",
              "      <td>1212372.0</td>\n",
              "      <td>33669.0</td>\n",
              "      <td>722881.0</td>\n",
              "    </tr>\n",
              "    <tr>\n",
              "      <th>2020-07-01</th>\n",
              "      <td>1353764.0</td>\n",
              "      <td>32910.0</td>\n",
              "      <td>1094384.0</td>\n",
              "    </tr>\n",
              "    <tr>\n",
              "      <th>2020-07-08</th>\n",
              "      <td>1494455.0</td>\n",
              "      <td>34483.0</td>\n",
              "      <td>951818.0</td>\n",
              "    </tr>\n",
              "    <tr>\n",
              "      <th>2020-07-15</th>\n",
              "      <td>1623371.0</td>\n",
              "      <td>37797.0</td>\n",
              "      <td>1067516.0</td>\n",
              "    </tr>\n",
              "    <tr>\n",
              "      <th>2020-07-22</th>\n",
              "      <td>1744099.0</td>\n",
              "      <td>43179.0</td>\n",
              "      <td>1244197.0</td>\n",
              "    </tr>\n",
              "    <tr>\n",
              "      <th>2020-07-29</th>\n",
              "      <td>1849262.0</td>\n",
              "      <td>41114.0</td>\n",
              "      <td>1423548.0</td>\n",
              "    </tr>\n",
              "    <tr>\n",
              "      <th>2020-08-05</th>\n",
              "      <td>1320894.0</td>\n",
              "      <td>30590.0</td>\n",
              "      <td>981090.0</td>\n",
              "    </tr>\n",
              "  </tbody>\n",
              "</table>\n",
              "</div>"
            ],
            "text/plain": [
              "                 Confirmed   Deaths  Recovered\n",
              "ObservationDate                               \n",
              "2020-01-22          5578.0    131.0      107.0\n",
              "2020-01-29         18314.0    361.0      745.0\n",
              "2020-02-05         20911.0    621.0     3831.0\n",
              "2020-02-12         30335.0    894.0     9669.0\n",
              "2020-02-19          5277.0    701.0    13553.0\n",
              "2020-02-26         12429.0    452.0    20324.0\n",
              "2020-03-04         25738.0   1102.0    16175.0\n",
              "2020-03-11         78586.0   3643.0    16436.0\n",
              "2020-03-18        220794.0  10710.0    26859.0\n",
              "2020-03-25        439525.0  23492.0    70329.0\n",
              "2020-04-01        568609.0  39758.0   122026.0\n",
              "2020-04-08        550096.0  44119.0   174207.0\n",
              "2020-04-15        572931.0  50599.0   205558.0\n",
              "2020-04-22        567275.0  40570.0   248839.0\n",
              "2020-04-29        546293.0  40086.0   270174.0\n",
              "2020-05-06        599264.0  34725.0   294582.0\n",
              "2020-05-13        635537.0  31321.0   345581.0\n",
              "2020-05-20        692134.0  27168.0   447961.0\n",
              "2020-05-27        796738.0  29930.0   442571.0\n",
              "2020-06-03        855949.0  31053.0   646146.0\n",
              "2020-06-10        931627.0  32249.0   579496.0\n",
              "2020-06-17       1089526.0  33899.0   675222.0\n",
              "2020-06-24       1212372.0  33669.0   722881.0\n",
              "2020-07-01       1353764.0  32910.0  1094384.0\n",
              "2020-07-08       1494455.0  34483.0   951818.0\n",
              "2020-07-15       1623371.0  37797.0  1067516.0\n",
              "2020-07-22       1744099.0  43179.0  1244197.0\n",
              "2020-07-29       1849262.0  41114.0  1423548.0\n",
              "2020-08-05       1320894.0  30590.0   981090.0"
            ]
          },
          "metadata": {
            "tags": []
          },
          "execution_count": 21
        }
      ]
    },
    {
      "cell_type": "markdown",
      "metadata": {
        "id": "DLj-OH-4N19l",
        "colab_type": "text"
      },
      "source": [
        "Tambien podria ver los casos cada 7 dias, pero especificamente cada domingo:"
      ]
    },
    {
      "cell_type": "code",
      "metadata": {
        "id": "zuQS46_zNdEr",
        "colab_type": "code",
        "colab": {
          "base_uri": "https://localhost:8080/",
          "height": 990
        },
        "outputId": "0c049527-6e7d-41f7-fe41-1c4f462bea73"
      },
      "source": [
        "df_diff.resample('W-Sun').sum()"
      ],
      "execution_count": 22,
      "outputs": [
        {
          "output_type": "execute_result",
          "data": {
            "text/html": [
              "<div>\n",
              "<style scoped>\n",
              "    .dataframe tbody tr th:only-of-type {\n",
              "        vertical-align: middle;\n",
              "    }\n",
              "\n",
              "    .dataframe tbody tr th {\n",
              "        vertical-align: top;\n",
              "    }\n",
              "\n",
              "    .dataframe thead th {\n",
              "        text-align: right;\n",
              "    }\n",
              "</style>\n",
              "<table border=\"1\" class=\"dataframe\">\n",
              "  <thead>\n",
              "    <tr style=\"text-align: right;\">\n",
              "      <th></th>\n",
              "      <th>Confirmed</th>\n",
              "      <th>Deaths</th>\n",
              "      <th>Recovered</th>\n",
              "    </tr>\n",
              "    <tr>\n",
              "      <th>ObservationDate</th>\n",
              "      <th></th>\n",
              "      <th></th>\n",
              "      <th></th>\n",
              "    </tr>\n",
              "  </thead>\n",
              "  <tbody>\n",
              "    <tr>\n",
              "      <th>2020-01-26</th>\n",
              "      <td>2118.0</td>\n",
              "      <td>56.0</td>\n",
              "      <td>52.0</td>\n",
              "    </tr>\n",
              "    <tr>\n",
              "      <th>2020-02-02</th>\n",
              "      <td>14669.0</td>\n",
              "      <td>306.0</td>\n",
              "      <td>420.0</td>\n",
              "    </tr>\n",
              "    <tr>\n",
              "      <th>2020-02-09</th>\n",
              "      <td>23364.0</td>\n",
              "      <td>544.0</td>\n",
              "      <td>2772.0</td>\n",
              "    </tr>\n",
              "    <tr>\n",
              "      <th>2020-02-16</th>\n",
              "      <td>31075.0</td>\n",
              "      <td>864.0</td>\n",
              "      <td>7621.0</td>\n",
              "    </tr>\n",
              "    <tr>\n",
              "      <th>2020-02-23</th>\n",
              "      <td>7759.0</td>\n",
              "      <td>699.0</td>\n",
              "      <td>12529.0</td>\n",
              "    </tr>\n",
              "    <tr>\n",
              "      <th>2020-03-01</th>\n",
              "      <td>9386.0</td>\n",
              "      <td>527.0</td>\n",
              "      <td>19322.0</td>\n",
              "    </tr>\n",
              "    <tr>\n",
              "      <th>2020-03-08</th>\n",
              "      <td>21464.0</td>\n",
              "      <td>807.0</td>\n",
              "      <td>17979.0</td>\n",
              "    </tr>\n",
              "    <tr>\n",
              "      <th>2020-03-15</th>\n",
              "      <td>57612.0</td>\n",
              "      <td>2637.0</td>\n",
              "      <td>15339.0</td>\n",
              "    </tr>\n",
              "    <tr>\n",
              "      <th>2020-03-22</th>\n",
              "      <td>169675.0</td>\n",
              "      <td>8183.0</td>\n",
              "      <td>21209.0</td>\n",
              "    </tr>\n",
              "    <tr>\n",
              "      <th>2020-03-29</th>\n",
              "      <td>383018.0</td>\n",
              "      <td>19302.0</td>\n",
              "      <td>51833.0</td>\n",
              "    </tr>\n",
              "    <tr>\n",
              "      <th>2020-04-05</th>\n",
              "      <td>551975.0</td>\n",
              "      <td>35449.0</td>\n",
              "      <td>110936.0</td>\n",
              "    </tr>\n",
              "    <tr>\n",
              "      <th>2020-04-12</th>\n",
              "      <td>574565.0</td>\n",
              "      <td>44715.0</td>\n",
              "      <td>161710.0</td>\n",
              "    </tr>\n",
              "    <tr>\n",
              "      <th>2020-04-19</th>\n",
              "      <td>554699.0</td>\n",
              "      <td>50955.0</td>\n",
              "      <td>202181.0</td>\n",
              "    </tr>\n",
              "    <tr>\n",
              "      <th>2020-04-26</th>\n",
              "      <td>570096.0</td>\n",
              "      <td>41500.0</td>\n",
              "      <td>241830.0</td>\n",
              "    </tr>\n",
              "    <tr>\n",
              "      <th>2020-05-03</th>\n",
              "      <td>535254.0</td>\n",
              "      <td>40926.0</td>\n",
              "      <td>259503.0</td>\n",
              "    </tr>\n",
              "    <tr>\n",
              "      <th>2020-05-10</th>\n",
              "      <td>594970.0</td>\n",
              "      <td>35239.0</td>\n",
              "      <td>283744.0</td>\n",
              "    </tr>\n",
              "    <tr>\n",
              "      <th>2020-05-17</th>\n",
              "      <td>611921.0</td>\n",
              "      <td>32476.0</td>\n",
              "      <td>324983.0</td>\n",
              "    </tr>\n",
              "    <tr>\n",
              "      <th>2020-05-24</th>\n",
              "      <td>693993.0</td>\n",
              "      <td>29874.0</td>\n",
              "      <td>434600.0</td>\n",
              "    </tr>\n",
              "    <tr>\n",
              "      <th>2020-05-31</th>\n",
              "      <td>759333.0</td>\n",
              "      <td>26976.0</td>\n",
              "      <td>472766.0</td>\n",
              "    </tr>\n",
              "    <tr>\n",
              "      <th>2020-06-07</th>\n",
              "      <td>843636.0</td>\n",
              "      <td>30709.0</td>\n",
              "      <td>499591.0</td>\n",
              "    </tr>\n",
              "    <tr>\n",
              "      <th>2020-06-14</th>\n",
              "      <td>890342.0</td>\n",
              "      <td>30322.0</td>\n",
              "      <td>628792.0</td>\n",
              "    </tr>\n",
              "    <tr>\n",
              "      <th>2020-06-21</th>\n",
              "      <td>1054612.0</td>\n",
              "      <td>35299.0</td>\n",
              "      <td>677374.0</td>\n",
              "    </tr>\n",
              "    <tr>\n",
              "      <th>2020-06-28</th>\n",
              "      <td>1190255.0</td>\n",
              "      <td>33528.0</td>\n",
              "      <td>693813.0</td>\n",
              "    </tr>\n",
              "    <tr>\n",
              "      <th>2020-07-05</th>\n",
              "      <td>1303916.0</td>\n",
              "      <td>32374.0</td>\n",
              "      <td>1038107.0</td>\n",
              "    </tr>\n",
              "    <tr>\n",
              "      <th>2020-07-12</th>\n",
              "      <td>1460650.0</td>\n",
              "      <td>34861.0</td>\n",
              "      <td>937951.0</td>\n",
              "    </tr>\n",
              "    <tr>\n",
              "      <th>2020-07-19</th>\n",
              "      <td>1597134.0</td>\n",
              "      <td>37045.0</td>\n",
              "      <td>1016706.0</td>\n",
              "    </tr>\n",
              "    <tr>\n",
              "      <th>2020-07-26</th>\n",
              "      <td>1745050.0</td>\n",
              "      <td>42464.0</td>\n",
              "      <td>1263842.0</td>\n",
              "    </tr>\n",
              "    <tr>\n",
              "      <th>2020-08-02</th>\n",
              "      <td>1826975.0</td>\n",
              "      <td>40723.0</td>\n",
              "      <td>1293050.0</td>\n",
              "    </tr>\n",
              "    <tr>\n",
              "      <th>2020-08-09</th>\n",
              "      <td>1782167.0</td>\n",
              "      <td>41966.0</td>\n",
              "      <td>1425270.0</td>\n",
              "    </tr>\n",
              "  </tbody>\n",
              "</table>\n",
              "</div>"
            ],
            "text/plain": [
              "                 Confirmed   Deaths  Recovered\n",
              "ObservationDate                               \n",
              "2020-01-26          2118.0     56.0       52.0\n",
              "2020-02-02         14669.0    306.0      420.0\n",
              "2020-02-09         23364.0    544.0     2772.0\n",
              "2020-02-16         31075.0    864.0     7621.0\n",
              "2020-02-23          7759.0    699.0    12529.0\n",
              "2020-03-01          9386.0    527.0    19322.0\n",
              "2020-03-08         21464.0    807.0    17979.0\n",
              "2020-03-15         57612.0   2637.0    15339.0\n",
              "2020-03-22        169675.0   8183.0    21209.0\n",
              "2020-03-29        383018.0  19302.0    51833.0\n",
              "2020-04-05        551975.0  35449.0   110936.0\n",
              "2020-04-12        574565.0  44715.0   161710.0\n",
              "2020-04-19        554699.0  50955.0   202181.0\n",
              "2020-04-26        570096.0  41500.0   241830.0\n",
              "2020-05-03        535254.0  40926.0   259503.0\n",
              "2020-05-10        594970.0  35239.0   283744.0\n",
              "2020-05-17        611921.0  32476.0   324983.0\n",
              "2020-05-24        693993.0  29874.0   434600.0\n",
              "2020-05-31        759333.0  26976.0   472766.0\n",
              "2020-06-07        843636.0  30709.0   499591.0\n",
              "2020-06-14        890342.0  30322.0   628792.0\n",
              "2020-06-21       1054612.0  35299.0   677374.0\n",
              "2020-06-28       1190255.0  33528.0   693813.0\n",
              "2020-07-05       1303916.0  32374.0  1038107.0\n",
              "2020-07-12       1460650.0  34861.0   937951.0\n",
              "2020-07-19       1597134.0  37045.0  1016706.0\n",
              "2020-07-26       1745050.0  42464.0  1263842.0\n",
              "2020-08-02       1826975.0  40723.0  1293050.0\n",
              "2020-08-09       1782167.0  41966.0  1425270.0"
            ]
          },
          "metadata": {
            "tags": []
          },
          "execution_count": 22
        }
      ]
    },
    {
      "cell_type": "markdown",
      "metadata": {
        "id": "znuMvaB9OHr4",
        "colab_type": "text"
      },
      "source": [
        "O la suma mensual de casos de covid-19 de forma mensual"
      ]
    },
    {
      "cell_type": "code",
      "metadata": {
        "id": "sB7jqCy3N_yA",
        "colab_type": "code",
        "colab": {
          "base_uri": "https://localhost:8080/",
          "height": 332
        },
        "outputId": "56e88195-65c5-4b5c-da51-f285a36f5019"
      },
      "source": [
        "df_diff.resample('M').sum()"
      ],
      "execution_count": 23,
      "outputs": [
        {
          "output_type": "execute_result",
          "data": {
            "text/html": [
              "<div>\n",
              "<style scoped>\n",
              "    .dataframe tbody tr th:only-of-type {\n",
              "        vertical-align: middle;\n",
              "    }\n",
              "\n",
              "    .dataframe tbody tr th {\n",
              "        vertical-align: top;\n",
              "    }\n",
              "\n",
              "    .dataframe thead th {\n",
              "        text-align: right;\n",
              "    }\n",
              "</style>\n",
              "<table border=\"1\" class=\"dataframe\">\n",
              "  <thead>\n",
              "    <tr style=\"text-align: right;\">\n",
              "      <th></th>\n",
              "      <th>Confirmed</th>\n",
              "      <th>Deaths</th>\n",
              "      <th>Recovered</th>\n",
              "    </tr>\n",
              "    <tr>\n",
              "      <th>ObservationDate</th>\n",
              "      <th></th>\n",
              "      <th></th>\n",
              "      <th></th>\n",
              "    </tr>\n",
              "  </thead>\n",
              "  <tbody>\n",
              "    <tr>\n",
              "      <th>2020-01-31</th>\n",
              "      <td>9925.0</td>\n",
              "      <td>213.0</td>\n",
              "      <td>222.0</td>\n",
              "    </tr>\n",
              "    <tr>\n",
              "      <th>2020-02-29</th>\n",
              "      <td>76088.0</td>\n",
              "      <td>2728.0</td>\n",
              "      <td>39560.0</td>\n",
              "    </tr>\n",
              "    <tr>\n",
              "      <th>2020-03-31</th>\n",
              "      <td>771474.0</td>\n",
              "      <td>39166.0</td>\n",
              "      <td>138246.0</td>\n",
              "    </tr>\n",
              "    <tr>\n",
              "      <th>2020-04-30</th>\n",
              "      <td>2399359.0</td>\n",
              "      <td>191281.0</td>\n",
              "      <td>836725.0</td>\n",
              "    </tr>\n",
              "    <tr>\n",
              "      <th>2020-05-31</th>\n",
              "      <td>2910100.0</td>\n",
              "      <td>138647.0</td>\n",
              "      <td>1626576.0</td>\n",
              "    </tr>\n",
              "    <tr>\n",
              "      <th>2020-06-30</th>\n",
              "      <td>4308892.0</td>\n",
              "      <td>139218.0</td>\n",
              "      <td>2711943.0</td>\n",
              "    </tr>\n",
              "    <tr>\n",
              "      <th>2020-07-31</th>\n",
              "      <td>7123998.0</td>\n",
              "      <td>168247.0</td>\n",
              "      <td>5015868.0</td>\n",
              "    </tr>\n",
              "    <tr>\n",
              "      <th>2020-08-31</th>\n",
              "      <td>2261847.0</td>\n",
              "      <td>51826.0</td>\n",
              "      <td>1746685.0</td>\n",
              "    </tr>\n",
              "  </tbody>\n",
              "</table>\n",
              "</div>"
            ],
            "text/plain": [
              "                 Confirmed    Deaths  Recovered\n",
              "ObservationDate                                \n",
              "2020-01-31          9925.0     213.0      222.0\n",
              "2020-02-29         76088.0    2728.0    39560.0\n",
              "2020-03-31        771474.0   39166.0   138246.0\n",
              "2020-04-30       2399359.0  191281.0   836725.0\n",
              "2020-05-31       2910100.0  138647.0  1626576.0\n",
              "2020-06-30       4308892.0  139218.0  2711943.0\n",
              "2020-07-31       7123998.0  168247.0  5015868.0\n",
              "2020-08-31       2261847.0   51826.0  1746685.0"
            ]
          },
          "metadata": {
            "tags": []
          },
          "execution_count": 23
        }
      ]
    },
    {
      "cell_type": "markdown",
      "metadata": {
        "id": "dAZmfob2OfwL",
        "colab_type": "text"
      },
      "source": [
        "Contemos cuantos dias tienen los meses, esto nos va a dar una mirada de los  "
      ]
    },
    {
      "cell_type": "code",
      "metadata": {
        "id": "EjA67KbNOMvT",
        "colab_type": "code",
        "colab": {
          "base_uri": "https://localhost:8080/",
          "height": 332
        },
        "outputId": "3202af62-4782-45bc-a0db-6ca423f19f63"
      },
      "source": [
        "df_diff.resample('M').count()"
      ],
      "execution_count": 24,
      "outputs": [
        {
          "output_type": "execute_result",
          "data": {
            "text/html": [
              "<div>\n",
              "<style scoped>\n",
              "    .dataframe tbody tr th:only-of-type {\n",
              "        vertical-align: middle;\n",
              "    }\n",
              "\n",
              "    .dataframe tbody tr th {\n",
              "        vertical-align: top;\n",
              "    }\n",
              "\n",
              "    .dataframe thead th {\n",
              "        text-align: right;\n",
              "    }\n",
              "</style>\n",
              "<table border=\"1\" class=\"dataframe\">\n",
              "  <thead>\n",
              "    <tr style=\"text-align: right;\">\n",
              "      <th></th>\n",
              "      <th>Confirmed</th>\n",
              "      <th>Deaths</th>\n",
              "      <th>Recovered</th>\n",
              "    </tr>\n",
              "    <tr>\n",
              "      <th>ObservationDate</th>\n",
              "      <th></th>\n",
              "      <th></th>\n",
              "      <th></th>\n",
              "    </tr>\n",
              "  </thead>\n",
              "  <tbody>\n",
              "    <tr>\n",
              "      <th>2020-01-31</th>\n",
              "      <td>10</td>\n",
              "      <td>10</td>\n",
              "      <td>10</td>\n",
              "    </tr>\n",
              "    <tr>\n",
              "      <th>2020-02-29</th>\n",
              "      <td>29</td>\n",
              "      <td>29</td>\n",
              "      <td>29</td>\n",
              "    </tr>\n",
              "    <tr>\n",
              "      <th>2020-03-31</th>\n",
              "      <td>31</td>\n",
              "      <td>31</td>\n",
              "      <td>31</td>\n",
              "    </tr>\n",
              "    <tr>\n",
              "      <th>2020-04-30</th>\n",
              "      <td>30</td>\n",
              "      <td>30</td>\n",
              "      <td>30</td>\n",
              "    </tr>\n",
              "    <tr>\n",
              "      <th>2020-05-31</th>\n",
              "      <td>31</td>\n",
              "      <td>31</td>\n",
              "      <td>31</td>\n",
              "    </tr>\n",
              "    <tr>\n",
              "      <th>2020-06-30</th>\n",
              "      <td>30</td>\n",
              "      <td>30</td>\n",
              "      <td>30</td>\n",
              "    </tr>\n",
              "    <tr>\n",
              "      <th>2020-07-31</th>\n",
              "      <td>31</td>\n",
              "      <td>31</td>\n",
              "      <td>31</td>\n",
              "    </tr>\n",
              "    <tr>\n",
              "      <th>2020-08-31</th>\n",
              "      <td>9</td>\n",
              "      <td>9</td>\n",
              "      <td>9</td>\n",
              "    </tr>\n",
              "  </tbody>\n",
              "</table>\n",
              "</div>"
            ],
            "text/plain": [
              "                 Confirmed  Deaths  Recovered\n",
              "ObservationDate                              \n",
              "2020-01-31              10      10         10\n",
              "2020-02-29              29      29         29\n",
              "2020-03-31              31      31         31\n",
              "2020-04-30              30      30         30\n",
              "2020-05-31              31      31         31\n",
              "2020-06-30              30      30         30\n",
              "2020-07-31              31      31         31\n",
              "2020-08-31               9       9          9"
            ]
          },
          "metadata": {
            "tags": []
          },
          "execution_count": 24
        }
      ]
    },
    {
      "cell_type": "code",
      "metadata": {
        "id": "b4LFi_UyOXT2",
        "colab_type": "code",
        "colab": {
          "base_uri": "https://localhost:8080/",
          "height": 332
        },
        "outputId": "5440f8c9-9cc2-43c1-e6f3-9e9acb621882"
      },
      "source": [
        "df_diff.resample('M').mean()"
      ],
      "execution_count": 25,
      "outputs": [
        {
          "output_type": "execute_result",
          "data": {
            "text/html": [
              "<div>\n",
              "<style scoped>\n",
              "    .dataframe tbody tr th:only-of-type {\n",
              "        vertical-align: middle;\n",
              "    }\n",
              "\n",
              "    .dataframe tbody tr th {\n",
              "        vertical-align: top;\n",
              "    }\n",
              "\n",
              "    .dataframe thead th {\n",
              "        text-align: right;\n",
              "    }\n",
              "</style>\n",
              "<table border=\"1\" class=\"dataframe\">\n",
              "  <thead>\n",
              "    <tr style=\"text-align: right;\">\n",
              "      <th></th>\n",
              "      <th>Confirmed</th>\n",
              "      <th>Deaths</th>\n",
              "      <th>Recovered</th>\n",
              "    </tr>\n",
              "    <tr>\n",
              "      <th>ObservationDate</th>\n",
              "      <th></th>\n",
              "      <th></th>\n",
              "      <th></th>\n",
              "    </tr>\n",
              "  </thead>\n",
              "  <tbody>\n",
              "    <tr>\n",
              "      <th>2020-01-31</th>\n",
              "      <td>992.500000</td>\n",
              "      <td>21.300000</td>\n",
              "      <td>22.200000</td>\n",
              "    </tr>\n",
              "    <tr>\n",
              "      <th>2020-02-29</th>\n",
              "      <td>2623.724138</td>\n",
              "      <td>94.068966</td>\n",
              "      <td>1364.137931</td>\n",
              "    </tr>\n",
              "    <tr>\n",
              "      <th>2020-03-31</th>\n",
              "      <td>24886.258065</td>\n",
              "      <td>1263.419355</td>\n",
              "      <td>4459.548387</td>\n",
              "    </tr>\n",
              "    <tr>\n",
              "      <th>2020-04-30</th>\n",
              "      <td>79978.633333</td>\n",
              "      <td>6376.033333</td>\n",
              "      <td>27890.833333</td>\n",
              "    </tr>\n",
              "    <tr>\n",
              "      <th>2020-05-31</th>\n",
              "      <td>93874.193548</td>\n",
              "      <td>4472.483871</td>\n",
              "      <td>52470.193548</td>\n",
              "    </tr>\n",
              "    <tr>\n",
              "      <th>2020-06-30</th>\n",
              "      <td>143629.733333</td>\n",
              "      <td>4640.600000</td>\n",
              "      <td>90398.100000</td>\n",
              "    </tr>\n",
              "    <tr>\n",
              "      <th>2020-07-31</th>\n",
              "      <td>229806.387097</td>\n",
              "      <td>5427.322581</td>\n",
              "      <td>161802.193548</td>\n",
              "    </tr>\n",
              "    <tr>\n",
              "      <th>2020-08-31</th>\n",
              "      <td>251316.333333</td>\n",
              "      <td>5758.444444</td>\n",
              "      <td>194076.111111</td>\n",
              "    </tr>\n",
              "  </tbody>\n",
              "</table>\n",
              "</div>"
            ],
            "text/plain": [
              "                     Confirmed       Deaths      Recovered\n",
              "ObservationDate                                           \n",
              "2020-01-31          992.500000    21.300000      22.200000\n",
              "2020-02-29         2623.724138    94.068966    1364.137931\n",
              "2020-03-31        24886.258065  1263.419355    4459.548387\n",
              "2020-04-30        79978.633333  6376.033333   27890.833333\n",
              "2020-05-31        93874.193548  4472.483871   52470.193548\n",
              "2020-06-30       143629.733333  4640.600000   90398.100000\n",
              "2020-07-31       229806.387097  5427.322581  161802.193548\n",
              "2020-08-31       251316.333333  5758.444444  194076.111111"
            ]
          },
          "metadata": {
            "tags": []
          },
          "execution_count": 25
        }
      ]
    },
    {
      "cell_type": "markdown",
      "metadata": {
        "id": "lSVNSgfGtYYc",
        "colab_type": "text"
      },
      "source": [
        "# Series de Tiempo - variables nulas\n",
        "\n",
        "Vamos a ver en mas profundidad las variables nulas y como trabajar con ellas. Tambien trabajaremos con graficos simples."
      ]
    },
    {
      "cell_type": "markdown",
      "metadata": {
        "id": "O3hVjYW4_ufT",
        "colab_type": "text"
      },
      "source": [
        "## Trabajando con variables nulas\n",
        "\n",
        "Lo que hicimos antes fue utilizar la función **resample** para extraer valor estadistico segun un intervalo definido por nosotros. Extrajimos la cantidad de observaciones de la cantidad de confirmados, muertos y recuperados por COVID-19 en una **frecuencia mensual**.\n",
        "\n",
        "Cambiemos nuestra frecuencia y veamos que pasa:"
      ]
    },
    {
      "cell_type": "code",
      "metadata": {
        "id": "aAxwWG7ToU_D",
        "colab_type": "code",
        "colab": {
          "base_uri": "https://localhost:8080/",
          "height": 455
        },
        "outputId": "9bae28e5-3ca1-4317-8af2-ef3301389bc7"
      },
      "source": [
        "df_diff.resample('12h').sum()"
      ],
      "execution_count": 26,
      "outputs": [
        {
          "output_type": "execute_result",
          "data": {
            "text/html": [
              "<div>\n",
              "<style scoped>\n",
              "    .dataframe tbody tr th:only-of-type {\n",
              "        vertical-align: middle;\n",
              "    }\n",
              "\n",
              "    .dataframe tbody tr th {\n",
              "        vertical-align: top;\n",
              "    }\n",
              "\n",
              "    .dataframe thead th {\n",
              "        text-align: right;\n",
              "    }\n",
              "</style>\n",
              "<table border=\"1\" class=\"dataframe\">\n",
              "  <thead>\n",
              "    <tr style=\"text-align: right;\">\n",
              "      <th></th>\n",
              "      <th>Confirmed</th>\n",
              "      <th>Deaths</th>\n",
              "      <th>Recovered</th>\n",
              "    </tr>\n",
              "    <tr>\n",
              "      <th>ObservationDate</th>\n",
              "      <th></th>\n",
              "      <th></th>\n",
              "      <th></th>\n",
              "    </tr>\n",
              "  </thead>\n",
              "  <tbody>\n",
              "    <tr>\n",
              "      <th>2020-01-22 00:00:00</th>\n",
              "      <td>555.0</td>\n",
              "      <td>17.0</td>\n",
              "      <td>28.0</td>\n",
              "    </tr>\n",
              "    <tr>\n",
              "      <th>2020-01-22 12:00:00</th>\n",
              "      <td>0.0</td>\n",
              "      <td>0.0</td>\n",
              "      <td>0.0</td>\n",
              "    </tr>\n",
              "    <tr>\n",
              "      <th>2020-01-23 00:00:00</th>\n",
              "      <td>98.0</td>\n",
              "      <td>1.0</td>\n",
              "      <td>2.0</td>\n",
              "    </tr>\n",
              "    <tr>\n",
              "      <th>2020-01-23 12:00:00</th>\n",
              "      <td>0.0</td>\n",
              "      <td>0.0</td>\n",
              "      <td>0.0</td>\n",
              "    </tr>\n",
              "    <tr>\n",
              "      <th>2020-01-24 00:00:00</th>\n",
              "      <td>288.0</td>\n",
              "      <td>8.0</td>\n",
              "      <td>6.0</td>\n",
              "    </tr>\n",
              "    <tr>\n",
              "      <th>...</th>\n",
              "      <td>...</td>\n",
              "      <td>...</td>\n",
              "      <td>...</td>\n",
              "    </tr>\n",
              "    <tr>\n",
              "      <th>2020-08-07 00:00:00</th>\n",
              "      <td>280887.0</td>\n",
              "      <td>6384.0</td>\n",
              "      <td>192526.0</td>\n",
              "    </tr>\n",
              "    <tr>\n",
              "      <th>2020-08-07 12:00:00</th>\n",
              "      <td>0.0</td>\n",
              "      <td>0.0</td>\n",
              "      <td>0.0</td>\n",
              "    </tr>\n",
              "    <tr>\n",
              "      <th>2020-08-08 00:00:00</th>\n",
              "      <td>259470.0</td>\n",
              "      <td>5457.0</td>\n",
              "      <td>201182.0</td>\n",
              "    </tr>\n",
              "    <tr>\n",
              "      <th>2020-08-08 12:00:00</th>\n",
              "      <td>0.0</td>\n",
              "      <td>0.0</td>\n",
              "      <td>0.0</td>\n",
              "    </tr>\n",
              "    <tr>\n",
              "      <th>2020-08-09 00:00:00</th>\n",
              "      <td>224177.0</td>\n",
              "      <td>4545.0</td>\n",
              "      <td>176716.0</td>\n",
              "    </tr>\n",
              "  </tbody>\n",
              "</table>\n",
              "<p>401 rows × 3 columns</p>\n",
              "</div>"
            ],
            "text/plain": [
              "                     Confirmed  Deaths  Recovered\n",
              "ObservationDate                                  \n",
              "2020-01-22 00:00:00      555.0    17.0       28.0\n",
              "2020-01-22 12:00:00        0.0     0.0        0.0\n",
              "2020-01-23 00:00:00       98.0     1.0        2.0\n",
              "2020-01-23 12:00:00        0.0     0.0        0.0\n",
              "2020-01-24 00:00:00      288.0     8.0        6.0\n",
              "...                        ...     ...        ...\n",
              "2020-08-07 00:00:00   280887.0  6384.0   192526.0\n",
              "2020-08-07 12:00:00        0.0     0.0        0.0\n",
              "2020-08-08 00:00:00   259470.0  5457.0   201182.0\n",
              "2020-08-08 12:00:00        0.0     0.0        0.0\n",
              "2020-08-09 00:00:00   224177.0  4545.0   176716.0\n",
              "\n",
              "[401 rows x 3 columns]"
            ]
          },
          "metadata": {
            "tags": []
          },
          "execution_count": 26
        }
      ]
    },
    {
      "cell_type": "markdown",
      "metadata": {
        "id": "gSQ9cx00uWMh",
        "colab_type": "text"
      },
      "source": [
        "Para cada intervalo de 12 horas donde yo no tenia datos previamente definidos se autocompleta con **0**, ahora si intento obtener el promedio, tendremos valores nulos:"
      ]
    },
    {
      "cell_type": "code",
      "metadata": {
        "id": "kuvGj1YMuTUJ",
        "colab_type": "code",
        "colab": {
          "base_uri": "https://localhost:8080/",
          "height": 455
        },
        "outputId": "2eccc842-3ae4-46a0-ef9b-806a29802b8c"
      },
      "source": [
        "df_diff.resample('12h').mean()"
      ],
      "execution_count": 27,
      "outputs": [
        {
          "output_type": "execute_result",
          "data": {
            "text/html": [
              "<div>\n",
              "<style scoped>\n",
              "    .dataframe tbody tr th:only-of-type {\n",
              "        vertical-align: middle;\n",
              "    }\n",
              "\n",
              "    .dataframe tbody tr th {\n",
              "        vertical-align: top;\n",
              "    }\n",
              "\n",
              "    .dataframe thead th {\n",
              "        text-align: right;\n",
              "    }\n",
              "</style>\n",
              "<table border=\"1\" class=\"dataframe\">\n",
              "  <thead>\n",
              "    <tr style=\"text-align: right;\">\n",
              "      <th></th>\n",
              "      <th>Confirmed</th>\n",
              "      <th>Deaths</th>\n",
              "      <th>Recovered</th>\n",
              "    </tr>\n",
              "    <tr>\n",
              "      <th>ObservationDate</th>\n",
              "      <th></th>\n",
              "      <th></th>\n",
              "      <th></th>\n",
              "    </tr>\n",
              "  </thead>\n",
              "  <tbody>\n",
              "    <tr>\n",
              "      <th>2020-01-22 00:00:00</th>\n",
              "      <td>555.0</td>\n",
              "      <td>17.0</td>\n",
              "      <td>28.0</td>\n",
              "    </tr>\n",
              "    <tr>\n",
              "      <th>2020-01-22 12:00:00</th>\n",
              "      <td>NaN</td>\n",
              "      <td>NaN</td>\n",
              "      <td>NaN</td>\n",
              "    </tr>\n",
              "    <tr>\n",
              "      <th>2020-01-23 00:00:00</th>\n",
              "      <td>98.0</td>\n",
              "      <td>1.0</td>\n",
              "      <td>2.0</td>\n",
              "    </tr>\n",
              "    <tr>\n",
              "      <th>2020-01-23 12:00:00</th>\n",
              "      <td>NaN</td>\n",
              "      <td>NaN</td>\n",
              "      <td>NaN</td>\n",
              "    </tr>\n",
              "    <tr>\n",
              "      <th>2020-01-24 00:00:00</th>\n",
              "      <td>288.0</td>\n",
              "      <td>8.0</td>\n",
              "      <td>6.0</td>\n",
              "    </tr>\n",
              "    <tr>\n",
              "      <th>...</th>\n",
              "      <td>...</td>\n",
              "      <td>...</td>\n",
              "      <td>...</td>\n",
              "    </tr>\n",
              "    <tr>\n",
              "      <th>2020-08-07 00:00:00</th>\n",
              "      <td>280887.0</td>\n",
              "      <td>6384.0</td>\n",
              "      <td>192526.0</td>\n",
              "    </tr>\n",
              "    <tr>\n",
              "      <th>2020-08-07 12:00:00</th>\n",
              "      <td>NaN</td>\n",
              "      <td>NaN</td>\n",
              "      <td>NaN</td>\n",
              "    </tr>\n",
              "    <tr>\n",
              "      <th>2020-08-08 00:00:00</th>\n",
              "      <td>259470.0</td>\n",
              "      <td>5457.0</td>\n",
              "      <td>201182.0</td>\n",
              "    </tr>\n",
              "    <tr>\n",
              "      <th>2020-08-08 12:00:00</th>\n",
              "      <td>NaN</td>\n",
              "      <td>NaN</td>\n",
              "      <td>NaN</td>\n",
              "    </tr>\n",
              "    <tr>\n",
              "      <th>2020-08-09 00:00:00</th>\n",
              "      <td>224177.0</td>\n",
              "      <td>4545.0</td>\n",
              "      <td>176716.0</td>\n",
              "    </tr>\n",
              "  </tbody>\n",
              "</table>\n",
              "<p>401 rows × 3 columns</p>\n",
              "</div>"
            ],
            "text/plain": [
              "                     Confirmed  Deaths  Recovered\n",
              "ObservationDate                                  \n",
              "2020-01-22 00:00:00      555.0    17.0       28.0\n",
              "2020-01-22 12:00:00        NaN     NaN        NaN\n",
              "2020-01-23 00:00:00       98.0     1.0        2.0\n",
              "2020-01-23 12:00:00        NaN     NaN        NaN\n",
              "2020-01-24 00:00:00      288.0     8.0        6.0\n",
              "...                        ...     ...        ...\n",
              "2020-08-07 00:00:00   280887.0  6384.0   192526.0\n",
              "2020-08-07 12:00:00        NaN     NaN        NaN\n",
              "2020-08-08 00:00:00   259470.0  5457.0   201182.0\n",
              "2020-08-08 12:00:00        NaN     NaN        NaN\n",
              "2020-08-09 00:00:00   224177.0  4545.0   176716.0\n",
              "\n",
              "[401 rows x 3 columns]"
            ]
          },
          "metadata": {
            "tags": []
          },
          "execution_count": 27
        }
      ]
    },
    {
      "cell_type": "markdown",
      "metadata": {
        "id": "ThdNTPNuuvfZ",
        "colab_type": "text"
      },
      "source": [
        "Vamos a recuperar nuestra suma y obtener datos nulos, para luego poder trabajar con estos, y lo haremos con nuestro dataframe df_time, el cual tiene nuestros datos originales:"
      ]
    },
    {
      "cell_type": "code",
      "metadata": {
        "id": "PQ9GKCslukzz",
        "colab_type": "code",
        "colab": {
          "base_uri": "https://localhost:8080/",
          "height": 455
        },
        "outputId": "2fb921d0-4b59-47b1-a555-fc7bb04602ad"
      },
      "source": [
        "df_cum = df_time.resample('12h').sum(min_count=1)\n",
        "df_cum"
      ],
      "execution_count": 31,
      "outputs": [
        {
          "output_type": "execute_result",
          "data": {
            "text/html": [
              "<div>\n",
              "<style scoped>\n",
              "    .dataframe tbody tr th:only-of-type {\n",
              "        vertical-align: middle;\n",
              "    }\n",
              "\n",
              "    .dataframe tbody tr th {\n",
              "        vertical-align: top;\n",
              "    }\n",
              "\n",
              "    .dataframe thead th {\n",
              "        text-align: right;\n",
              "    }\n",
              "</style>\n",
              "<table border=\"1\" class=\"dataframe\">\n",
              "  <thead>\n",
              "    <tr style=\"text-align: right;\">\n",
              "      <th></th>\n",
              "      <th>Confirmed</th>\n",
              "      <th>Deaths</th>\n",
              "      <th>Recovered</th>\n",
              "    </tr>\n",
              "    <tr>\n",
              "      <th>ObservationDate</th>\n",
              "      <th></th>\n",
              "      <th></th>\n",
              "      <th></th>\n",
              "    </tr>\n",
              "  </thead>\n",
              "  <tbody>\n",
              "    <tr>\n",
              "      <th>2020-01-22 00:00:00</th>\n",
              "      <td>555.0</td>\n",
              "      <td>17.0</td>\n",
              "      <td>28.0</td>\n",
              "    </tr>\n",
              "    <tr>\n",
              "      <th>2020-01-22 12:00:00</th>\n",
              "      <td>NaN</td>\n",
              "      <td>NaN</td>\n",
              "      <td>NaN</td>\n",
              "    </tr>\n",
              "    <tr>\n",
              "      <th>2020-01-23 00:00:00</th>\n",
              "      <td>653.0</td>\n",
              "      <td>18.0</td>\n",
              "      <td>30.0</td>\n",
              "    </tr>\n",
              "    <tr>\n",
              "      <th>2020-01-23 12:00:00</th>\n",
              "      <td>NaN</td>\n",
              "      <td>NaN</td>\n",
              "      <td>NaN</td>\n",
              "    </tr>\n",
              "    <tr>\n",
              "      <th>2020-01-24 00:00:00</th>\n",
              "      <td>941.0</td>\n",
              "      <td>26.0</td>\n",
              "      <td>36.0</td>\n",
              "    </tr>\n",
              "    <tr>\n",
              "      <th>...</th>\n",
              "      <td>...</td>\n",
              "      <td>...</td>\n",
              "      <td>...</td>\n",
              "    </tr>\n",
              "    <tr>\n",
              "      <th>2020-08-07 00:00:00</th>\n",
              "      <td>19378036.0</td>\n",
              "      <td>721324.0</td>\n",
              "      <td>11737927.0</td>\n",
              "    </tr>\n",
              "    <tr>\n",
              "      <th>2020-08-07 12:00:00</th>\n",
              "      <td>NaN</td>\n",
              "      <td>NaN</td>\n",
              "      <td>NaN</td>\n",
              "    </tr>\n",
              "    <tr>\n",
              "      <th>2020-08-08 00:00:00</th>\n",
              "      <td>19637506.0</td>\n",
              "      <td>726781.0</td>\n",
              "      <td>11939109.0</td>\n",
              "    </tr>\n",
              "    <tr>\n",
              "      <th>2020-08-08 12:00:00</th>\n",
              "      <td>NaN</td>\n",
              "      <td>NaN</td>\n",
              "      <td>NaN</td>\n",
              "    </tr>\n",
              "    <tr>\n",
              "      <th>2020-08-09 00:00:00</th>\n",
              "      <td>19861683.0</td>\n",
              "      <td>731326.0</td>\n",
              "      <td>12115825.0</td>\n",
              "    </tr>\n",
              "  </tbody>\n",
              "</table>\n",
              "<p>401 rows × 3 columns</p>\n",
              "</div>"
            ],
            "text/plain": [
              "                      Confirmed    Deaths   Recovered\n",
              "ObservationDate                                      \n",
              "2020-01-22 00:00:00       555.0      17.0        28.0\n",
              "2020-01-22 12:00:00         NaN       NaN         NaN\n",
              "2020-01-23 00:00:00       653.0      18.0        30.0\n",
              "2020-01-23 12:00:00         NaN       NaN         NaN\n",
              "2020-01-24 00:00:00       941.0      26.0        36.0\n",
              "...                         ...       ...         ...\n",
              "2020-08-07 00:00:00  19378036.0  721324.0  11737927.0\n",
              "2020-08-07 12:00:00         NaN       NaN         NaN\n",
              "2020-08-08 00:00:00  19637506.0  726781.0  11939109.0\n",
              "2020-08-08 12:00:00         NaN       NaN         NaN\n",
              "2020-08-09 00:00:00  19861683.0  731326.0  12115825.0\n",
              "\n",
              "[401 rows x 3 columns]"
            ]
          },
          "metadata": {
            "tags": []
          },
          "execution_count": 31
        }
      ]
    },
    {
      "cell_type": "markdown",
      "metadata": {
        "id": "IGCziQ3fvKLV",
        "colab_type": "text"
      },
      "source": [
        "Vamos a tratar de recupearar los datos nulos, existen 2 tipos de funciones para completar los valores nulos con los datos superiores o inferiores:"
      ]
    },
    {
      "cell_type": "code",
      "metadata": {
        "id": "yDCSiY7xu24V",
        "colab_type": "code",
        "colab": {
          "base_uri": "https://localhost:8080/",
          "height": 455
        },
        "outputId": "657acf25-1fb5-4cc4-9b68-b3d26ff82902"
      },
      "source": [
        "df_cum.bfill()  # Con los datos inferiores completo la celda superior"
      ],
      "execution_count": 32,
      "outputs": [
        {
          "output_type": "execute_result",
          "data": {
            "text/html": [
              "<div>\n",
              "<style scoped>\n",
              "    .dataframe tbody tr th:only-of-type {\n",
              "        vertical-align: middle;\n",
              "    }\n",
              "\n",
              "    .dataframe tbody tr th {\n",
              "        vertical-align: top;\n",
              "    }\n",
              "\n",
              "    .dataframe thead th {\n",
              "        text-align: right;\n",
              "    }\n",
              "</style>\n",
              "<table border=\"1\" class=\"dataframe\">\n",
              "  <thead>\n",
              "    <tr style=\"text-align: right;\">\n",
              "      <th></th>\n",
              "      <th>Confirmed</th>\n",
              "      <th>Deaths</th>\n",
              "      <th>Recovered</th>\n",
              "    </tr>\n",
              "    <tr>\n",
              "      <th>ObservationDate</th>\n",
              "      <th></th>\n",
              "      <th></th>\n",
              "      <th></th>\n",
              "    </tr>\n",
              "  </thead>\n",
              "  <tbody>\n",
              "    <tr>\n",
              "      <th>2020-01-22 00:00:00</th>\n",
              "      <td>555.0</td>\n",
              "      <td>17.0</td>\n",
              "      <td>28.0</td>\n",
              "    </tr>\n",
              "    <tr>\n",
              "      <th>2020-01-22 12:00:00</th>\n",
              "      <td>653.0</td>\n",
              "      <td>18.0</td>\n",
              "      <td>30.0</td>\n",
              "    </tr>\n",
              "    <tr>\n",
              "      <th>2020-01-23 00:00:00</th>\n",
              "      <td>653.0</td>\n",
              "      <td>18.0</td>\n",
              "      <td>30.0</td>\n",
              "    </tr>\n",
              "    <tr>\n",
              "      <th>2020-01-23 12:00:00</th>\n",
              "      <td>941.0</td>\n",
              "      <td>26.0</td>\n",
              "      <td>36.0</td>\n",
              "    </tr>\n",
              "    <tr>\n",
              "      <th>2020-01-24 00:00:00</th>\n",
              "      <td>941.0</td>\n",
              "      <td>26.0</td>\n",
              "      <td>36.0</td>\n",
              "    </tr>\n",
              "    <tr>\n",
              "      <th>...</th>\n",
              "      <td>...</td>\n",
              "      <td>...</td>\n",
              "      <td>...</td>\n",
              "    </tr>\n",
              "    <tr>\n",
              "      <th>2020-08-07 00:00:00</th>\n",
              "      <td>19378036.0</td>\n",
              "      <td>721324.0</td>\n",
              "      <td>11737927.0</td>\n",
              "    </tr>\n",
              "    <tr>\n",
              "      <th>2020-08-07 12:00:00</th>\n",
              "      <td>19637506.0</td>\n",
              "      <td>726781.0</td>\n",
              "      <td>11939109.0</td>\n",
              "    </tr>\n",
              "    <tr>\n",
              "      <th>2020-08-08 00:00:00</th>\n",
              "      <td>19637506.0</td>\n",
              "      <td>726781.0</td>\n",
              "      <td>11939109.0</td>\n",
              "    </tr>\n",
              "    <tr>\n",
              "      <th>2020-08-08 12:00:00</th>\n",
              "      <td>19861683.0</td>\n",
              "      <td>731326.0</td>\n",
              "      <td>12115825.0</td>\n",
              "    </tr>\n",
              "    <tr>\n",
              "      <th>2020-08-09 00:00:00</th>\n",
              "      <td>19861683.0</td>\n",
              "      <td>731326.0</td>\n",
              "      <td>12115825.0</td>\n",
              "    </tr>\n",
              "  </tbody>\n",
              "</table>\n",
              "<p>401 rows × 3 columns</p>\n",
              "</div>"
            ],
            "text/plain": [
              "                      Confirmed    Deaths   Recovered\n",
              "ObservationDate                                      \n",
              "2020-01-22 00:00:00       555.0      17.0        28.0\n",
              "2020-01-22 12:00:00       653.0      18.0        30.0\n",
              "2020-01-23 00:00:00       653.0      18.0        30.0\n",
              "2020-01-23 12:00:00       941.0      26.0        36.0\n",
              "2020-01-24 00:00:00       941.0      26.0        36.0\n",
              "...                         ...       ...         ...\n",
              "2020-08-07 00:00:00  19378036.0  721324.0  11737927.0\n",
              "2020-08-07 12:00:00  19637506.0  726781.0  11939109.0\n",
              "2020-08-08 00:00:00  19637506.0  726781.0  11939109.0\n",
              "2020-08-08 12:00:00  19861683.0  731326.0  12115825.0\n",
              "2020-08-09 00:00:00  19861683.0  731326.0  12115825.0\n",
              "\n",
              "[401 rows x 3 columns]"
            ]
          },
          "metadata": {
            "tags": []
          },
          "execution_count": 32
        }
      ]
    },
    {
      "cell_type": "code",
      "metadata": {
        "id": "PE6KxodWvRZ_",
        "colab_type": "code",
        "colab": {
          "base_uri": "https://localhost:8080/",
          "height": 455
        },
        "outputId": "2785d9ec-e6d1-4b0d-a545-d128a434b982"
      },
      "source": [
        "df_cum.ffill()  # Con los datos superiores completo la celda inferior"
      ],
      "execution_count": 33,
      "outputs": [
        {
          "output_type": "execute_result",
          "data": {
            "text/html": [
              "<div>\n",
              "<style scoped>\n",
              "    .dataframe tbody tr th:only-of-type {\n",
              "        vertical-align: middle;\n",
              "    }\n",
              "\n",
              "    .dataframe tbody tr th {\n",
              "        vertical-align: top;\n",
              "    }\n",
              "\n",
              "    .dataframe thead th {\n",
              "        text-align: right;\n",
              "    }\n",
              "</style>\n",
              "<table border=\"1\" class=\"dataframe\">\n",
              "  <thead>\n",
              "    <tr style=\"text-align: right;\">\n",
              "      <th></th>\n",
              "      <th>Confirmed</th>\n",
              "      <th>Deaths</th>\n",
              "      <th>Recovered</th>\n",
              "    </tr>\n",
              "    <tr>\n",
              "      <th>ObservationDate</th>\n",
              "      <th></th>\n",
              "      <th></th>\n",
              "      <th></th>\n",
              "    </tr>\n",
              "  </thead>\n",
              "  <tbody>\n",
              "    <tr>\n",
              "      <th>2020-01-22 00:00:00</th>\n",
              "      <td>555.0</td>\n",
              "      <td>17.0</td>\n",
              "      <td>28.0</td>\n",
              "    </tr>\n",
              "    <tr>\n",
              "      <th>2020-01-22 12:00:00</th>\n",
              "      <td>555.0</td>\n",
              "      <td>17.0</td>\n",
              "      <td>28.0</td>\n",
              "    </tr>\n",
              "    <tr>\n",
              "      <th>2020-01-23 00:00:00</th>\n",
              "      <td>653.0</td>\n",
              "      <td>18.0</td>\n",
              "      <td>30.0</td>\n",
              "    </tr>\n",
              "    <tr>\n",
              "      <th>2020-01-23 12:00:00</th>\n",
              "      <td>653.0</td>\n",
              "      <td>18.0</td>\n",
              "      <td>30.0</td>\n",
              "    </tr>\n",
              "    <tr>\n",
              "      <th>2020-01-24 00:00:00</th>\n",
              "      <td>941.0</td>\n",
              "      <td>26.0</td>\n",
              "      <td>36.0</td>\n",
              "    </tr>\n",
              "    <tr>\n",
              "      <th>...</th>\n",
              "      <td>...</td>\n",
              "      <td>...</td>\n",
              "      <td>...</td>\n",
              "    </tr>\n",
              "    <tr>\n",
              "      <th>2020-08-07 00:00:00</th>\n",
              "      <td>19378036.0</td>\n",
              "      <td>721324.0</td>\n",
              "      <td>11737927.0</td>\n",
              "    </tr>\n",
              "    <tr>\n",
              "      <th>2020-08-07 12:00:00</th>\n",
              "      <td>19378036.0</td>\n",
              "      <td>721324.0</td>\n",
              "      <td>11737927.0</td>\n",
              "    </tr>\n",
              "    <tr>\n",
              "      <th>2020-08-08 00:00:00</th>\n",
              "      <td>19637506.0</td>\n",
              "      <td>726781.0</td>\n",
              "      <td>11939109.0</td>\n",
              "    </tr>\n",
              "    <tr>\n",
              "      <th>2020-08-08 12:00:00</th>\n",
              "      <td>19637506.0</td>\n",
              "      <td>726781.0</td>\n",
              "      <td>11939109.0</td>\n",
              "    </tr>\n",
              "    <tr>\n",
              "      <th>2020-08-09 00:00:00</th>\n",
              "      <td>19861683.0</td>\n",
              "      <td>731326.0</td>\n",
              "      <td>12115825.0</td>\n",
              "    </tr>\n",
              "  </tbody>\n",
              "</table>\n",
              "<p>401 rows × 3 columns</p>\n",
              "</div>"
            ],
            "text/plain": [
              "                      Confirmed    Deaths   Recovered\n",
              "ObservationDate                                      \n",
              "2020-01-22 00:00:00       555.0      17.0        28.0\n",
              "2020-01-22 12:00:00       555.0      17.0        28.0\n",
              "2020-01-23 00:00:00       653.0      18.0        30.0\n",
              "2020-01-23 12:00:00       653.0      18.0        30.0\n",
              "2020-01-24 00:00:00       941.0      26.0        36.0\n",
              "...                         ...       ...         ...\n",
              "2020-08-07 00:00:00  19378036.0  721324.0  11737927.0\n",
              "2020-08-07 12:00:00  19378036.0  721324.0  11737927.0\n",
              "2020-08-08 00:00:00  19637506.0  726781.0  11939109.0\n",
              "2020-08-08 12:00:00  19637506.0  726781.0  11939109.0\n",
              "2020-08-09 00:00:00  19861683.0  731326.0  12115825.0\n",
              "\n",
              "[401 rows x 3 columns]"
            ]
          },
          "metadata": {
            "tags": []
          },
          "execution_count": 33
        }
      ]
    },
    {
      "cell_type": "markdown",
      "metadata": {
        "id": "UsINVDHgvqVr",
        "colab_type": "text"
      },
      "source": [
        "Incluso puedo reemplazar todos los valores nulos con valores que yo quiera:"
      ]
    },
    {
      "cell_type": "code",
      "metadata": {
        "id": "51vgzt0lvlio",
        "colab_type": "code",
        "colab": {
          "base_uri": "https://localhost:8080/",
          "height": 455
        },
        "outputId": "8438b496-e08c-4463-9a7f-02965ba2cd78"
      },
      "source": [
        "df_cum.fillna(-1000)"
      ],
      "execution_count": 35,
      "outputs": [
        {
          "output_type": "execute_result",
          "data": {
            "text/html": [
              "<div>\n",
              "<style scoped>\n",
              "    .dataframe tbody tr th:only-of-type {\n",
              "        vertical-align: middle;\n",
              "    }\n",
              "\n",
              "    .dataframe tbody tr th {\n",
              "        vertical-align: top;\n",
              "    }\n",
              "\n",
              "    .dataframe thead th {\n",
              "        text-align: right;\n",
              "    }\n",
              "</style>\n",
              "<table border=\"1\" class=\"dataframe\">\n",
              "  <thead>\n",
              "    <tr style=\"text-align: right;\">\n",
              "      <th></th>\n",
              "      <th>Confirmed</th>\n",
              "      <th>Deaths</th>\n",
              "      <th>Recovered</th>\n",
              "    </tr>\n",
              "    <tr>\n",
              "      <th>ObservationDate</th>\n",
              "      <th></th>\n",
              "      <th></th>\n",
              "      <th></th>\n",
              "    </tr>\n",
              "  </thead>\n",
              "  <tbody>\n",
              "    <tr>\n",
              "      <th>2020-01-22 00:00:00</th>\n",
              "      <td>555.0</td>\n",
              "      <td>17.0</td>\n",
              "      <td>28.0</td>\n",
              "    </tr>\n",
              "    <tr>\n",
              "      <th>2020-01-22 12:00:00</th>\n",
              "      <td>-1000.0</td>\n",
              "      <td>-1000.0</td>\n",
              "      <td>-1000.0</td>\n",
              "    </tr>\n",
              "    <tr>\n",
              "      <th>2020-01-23 00:00:00</th>\n",
              "      <td>653.0</td>\n",
              "      <td>18.0</td>\n",
              "      <td>30.0</td>\n",
              "    </tr>\n",
              "    <tr>\n",
              "      <th>2020-01-23 12:00:00</th>\n",
              "      <td>-1000.0</td>\n",
              "      <td>-1000.0</td>\n",
              "      <td>-1000.0</td>\n",
              "    </tr>\n",
              "    <tr>\n",
              "      <th>2020-01-24 00:00:00</th>\n",
              "      <td>941.0</td>\n",
              "      <td>26.0</td>\n",
              "      <td>36.0</td>\n",
              "    </tr>\n",
              "    <tr>\n",
              "      <th>...</th>\n",
              "      <td>...</td>\n",
              "      <td>...</td>\n",
              "      <td>...</td>\n",
              "    </tr>\n",
              "    <tr>\n",
              "      <th>2020-08-07 00:00:00</th>\n",
              "      <td>19378036.0</td>\n",
              "      <td>721324.0</td>\n",
              "      <td>11737927.0</td>\n",
              "    </tr>\n",
              "    <tr>\n",
              "      <th>2020-08-07 12:00:00</th>\n",
              "      <td>-1000.0</td>\n",
              "      <td>-1000.0</td>\n",
              "      <td>-1000.0</td>\n",
              "    </tr>\n",
              "    <tr>\n",
              "      <th>2020-08-08 00:00:00</th>\n",
              "      <td>19637506.0</td>\n",
              "      <td>726781.0</td>\n",
              "      <td>11939109.0</td>\n",
              "    </tr>\n",
              "    <tr>\n",
              "      <th>2020-08-08 12:00:00</th>\n",
              "      <td>-1000.0</td>\n",
              "      <td>-1000.0</td>\n",
              "      <td>-1000.0</td>\n",
              "    </tr>\n",
              "    <tr>\n",
              "      <th>2020-08-09 00:00:00</th>\n",
              "      <td>19861683.0</td>\n",
              "      <td>731326.0</td>\n",
              "      <td>12115825.0</td>\n",
              "    </tr>\n",
              "  </tbody>\n",
              "</table>\n",
              "<p>401 rows × 3 columns</p>\n",
              "</div>"
            ],
            "text/plain": [
              "                      Confirmed    Deaths   Recovered\n",
              "ObservationDate                                      \n",
              "2020-01-22 00:00:00       555.0      17.0        28.0\n",
              "2020-01-22 12:00:00     -1000.0   -1000.0     -1000.0\n",
              "2020-01-23 00:00:00       653.0      18.0        30.0\n",
              "2020-01-23 12:00:00     -1000.0   -1000.0     -1000.0\n",
              "2020-01-24 00:00:00       941.0      26.0        36.0\n",
              "...                         ...       ...         ...\n",
              "2020-08-07 00:00:00  19378036.0  721324.0  11737927.0\n",
              "2020-08-07 12:00:00     -1000.0   -1000.0     -1000.0\n",
              "2020-08-08 00:00:00  19637506.0  726781.0  11939109.0\n",
              "2020-08-08 12:00:00     -1000.0   -1000.0     -1000.0\n",
              "2020-08-09 00:00:00  19861683.0  731326.0  12115825.0\n",
              "\n",
              "[401 rows x 3 columns]"
            ]
          },
          "metadata": {
            "tags": []
          },
          "execution_count": 35
        }
      ]
    },
    {
      "cell_type": "markdown",
      "metadata": {
        "id": "-9kcxw5iv2lP",
        "colab_type": "text"
      },
      "source": [
        "Una buena opcion para datos nulos en series de tiempo es utilizar la funcion **interpolate**, esta funcion nos completara con un datos interpolado con la fila superior y la inferior, y agregará un posible dato que puede corresponder a dicha fila. Lo que hace es una **interpolación lineal**"
      ]
    },
    {
      "cell_type": "code",
      "metadata": {
        "id": "IbvtOtd6vyHa",
        "colab_type": "code",
        "colab": {
          "base_uri": "https://localhost:8080/",
          "height": 455
        },
        "outputId": "14a165e9-51db-4993-df29-681551c4005d"
      },
      "source": [
        "df_cum = df_cum.interpolate()\n",
        "df_cum"
      ],
      "execution_count": 36,
      "outputs": [
        {
          "output_type": "execute_result",
          "data": {
            "text/html": [
              "<div>\n",
              "<style scoped>\n",
              "    .dataframe tbody tr th:only-of-type {\n",
              "        vertical-align: middle;\n",
              "    }\n",
              "\n",
              "    .dataframe tbody tr th {\n",
              "        vertical-align: top;\n",
              "    }\n",
              "\n",
              "    .dataframe thead th {\n",
              "        text-align: right;\n",
              "    }\n",
              "</style>\n",
              "<table border=\"1\" class=\"dataframe\">\n",
              "  <thead>\n",
              "    <tr style=\"text-align: right;\">\n",
              "      <th></th>\n",
              "      <th>Confirmed</th>\n",
              "      <th>Deaths</th>\n",
              "      <th>Recovered</th>\n",
              "    </tr>\n",
              "    <tr>\n",
              "      <th>ObservationDate</th>\n",
              "      <th></th>\n",
              "      <th></th>\n",
              "      <th></th>\n",
              "    </tr>\n",
              "  </thead>\n",
              "  <tbody>\n",
              "    <tr>\n",
              "      <th>2020-01-22 00:00:00</th>\n",
              "      <td>555.0</td>\n",
              "      <td>17.0</td>\n",
              "      <td>28.0</td>\n",
              "    </tr>\n",
              "    <tr>\n",
              "      <th>2020-01-22 12:00:00</th>\n",
              "      <td>604.0</td>\n",
              "      <td>17.5</td>\n",
              "      <td>29.0</td>\n",
              "    </tr>\n",
              "    <tr>\n",
              "      <th>2020-01-23 00:00:00</th>\n",
              "      <td>653.0</td>\n",
              "      <td>18.0</td>\n",
              "      <td>30.0</td>\n",
              "    </tr>\n",
              "    <tr>\n",
              "      <th>2020-01-23 12:00:00</th>\n",
              "      <td>797.0</td>\n",
              "      <td>22.0</td>\n",
              "      <td>33.0</td>\n",
              "    </tr>\n",
              "    <tr>\n",
              "      <th>2020-01-24 00:00:00</th>\n",
              "      <td>941.0</td>\n",
              "      <td>26.0</td>\n",
              "      <td>36.0</td>\n",
              "    </tr>\n",
              "    <tr>\n",
              "      <th>...</th>\n",
              "      <td>...</td>\n",
              "      <td>...</td>\n",
              "      <td>...</td>\n",
              "    </tr>\n",
              "    <tr>\n",
              "      <th>2020-08-07 00:00:00</th>\n",
              "      <td>19378036.0</td>\n",
              "      <td>721324.0</td>\n",
              "      <td>11737927.0</td>\n",
              "    </tr>\n",
              "    <tr>\n",
              "      <th>2020-08-07 12:00:00</th>\n",
              "      <td>19507771.0</td>\n",
              "      <td>724052.5</td>\n",
              "      <td>11838518.0</td>\n",
              "    </tr>\n",
              "    <tr>\n",
              "      <th>2020-08-08 00:00:00</th>\n",
              "      <td>19637506.0</td>\n",
              "      <td>726781.0</td>\n",
              "      <td>11939109.0</td>\n",
              "    </tr>\n",
              "    <tr>\n",
              "      <th>2020-08-08 12:00:00</th>\n",
              "      <td>19749594.5</td>\n",
              "      <td>729053.5</td>\n",
              "      <td>12027467.0</td>\n",
              "    </tr>\n",
              "    <tr>\n",
              "      <th>2020-08-09 00:00:00</th>\n",
              "      <td>19861683.0</td>\n",
              "      <td>731326.0</td>\n",
              "      <td>12115825.0</td>\n",
              "    </tr>\n",
              "  </tbody>\n",
              "</table>\n",
              "<p>401 rows × 3 columns</p>\n",
              "</div>"
            ],
            "text/plain": [
              "                      Confirmed    Deaths   Recovered\n",
              "ObservationDate                                      \n",
              "2020-01-22 00:00:00       555.0      17.0        28.0\n",
              "2020-01-22 12:00:00       604.0      17.5        29.0\n",
              "2020-01-23 00:00:00       653.0      18.0        30.0\n",
              "2020-01-23 12:00:00       797.0      22.0        33.0\n",
              "2020-01-24 00:00:00       941.0      26.0        36.0\n",
              "...                         ...       ...         ...\n",
              "2020-08-07 00:00:00  19378036.0  721324.0  11737927.0\n",
              "2020-08-07 12:00:00  19507771.0  724052.5  11838518.0\n",
              "2020-08-08 00:00:00  19637506.0  726781.0  11939109.0\n",
              "2020-08-08 12:00:00  19749594.5  729053.5  12027467.0\n",
              "2020-08-09 00:00:00  19861683.0  731326.0  12115825.0\n",
              "\n",
              "[401 rows x 3 columns]"
            ]
          },
          "metadata": {
            "tags": []
          },
          "execution_count": 36
        }
      ]
    },
    {
      "cell_type": "markdown",
      "metadata": {
        "id": "pq1OpT8P976T",
        "colab_type": "text"
      },
      "source": [
        "## Agrupando series de tiempo y graficando datos simples\n",
        "\n",
        "Utilizaremos herramientas de pandas para hacer analisis de series de tiempo, **como agrupar** cuando tenemos columnas de tipo tiempo, utilizando una función llamada **Grouper** y veremos la importancia de trabajar con **intervalos de tiempo** y calcular **suavizados de curvas**, usando **rolling()**.\n",
        "\n",
        "En general en la naturaleza haremos este tipo de analisis por ejemplo en:\n",
        "* temperaturas a lo largo de un año.\n",
        "* cuando realizamos proyecciones financieras."
      ]
    },
    {
      "cell_type": "markdown",
      "metadata": {
        "id": "PeqvPPWcwdqa",
        "colab_type": "text"
      },
      "source": [
        "Creemos una nueva columna, esta será la **tasa de supervivencia** al COVID-19"
      ]
    },
    {
      "cell_type": "code",
      "metadata": {
        "id": "g90BgbuswPOa",
        "colab_type": "code",
        "colab": {
          "base_uri": "https://localhost:8080/",
          "height": 455
        },
        "outputId": "93da54ad-b02d-4b1b-cf1f-8c304625a02a"
      },
      "source": [
        "df_cum['rate-recovered'] = 1 - df_cum['Deaths'] / df_cum['Confirmed']\n",
        "df_cum"
      ],
      "execution_count": 37,
      "outputs": [
        {
          "output_type": "execute_result",
          "data": {
            "text/html": [
              "<div>\n",
              "<style scoped>\n",
              "    .dataframe tbody tr th:only-of-type {\n",
              "        vertical-align: middle;\n",
              "    }\n",
              "\n",
              "    .dataframe tbody tr th {\n",
              "        vertical-align: top;\n",
              "    }\n",
              "\n",
              "    .dataframe thead th {\n",
              "        text-align: right;\n",
              "    }\n",
              "</style>\n",
              "<table border=\"1\" class=\"dataframe\">\n",
              "  <thead>\n",
              "    <tr style=\"text-align: right;\">\n",
              "      <th></th>\n",
              "      <th>Confirmed</th>\n",
              "      <th>Deaths</th>\n",
              "      <th>Recovered</th>\n",
              "      <th>rate</th>\n",
              "    </tr>\n",
              "    <tr>\n",
              "      <th>ObservationDate</th>\n",
              "      <th></th>\n",
              "      <th></th>\n",
              "      <th></th>\n",
              "      <th></th>\n",
              "    </tr>\n",
              "  </thead>\n",
              "  <tbody>\n",
              "    <tr>\n",
              "      <th>2020-01-22 00:00:00</th>\n",
              "      <td>555.0</td>\n",
              "      <td>17.0</td>\n",
              "      <td>28.0</td>\n",
              "      <td>0.969369</td>\n",
              "    </tr>\n",
              "    <tr>\n",
              "      <th>2020-01-22 12:00:00</th>\n",
              "      <td>604.0</td>\n",
              "      <td>17.5</td>\n",
              "      <td>29.0</td>\n",
              "      <td>0.971026</td>\n",
              "    </tr>\n",
              "    <tr>\n",
              "      <th>2020-01-23 00:00:00</th>\n",
              "      <td>653.0</td>\n",
              "      <td>18.0</td>\n",
              "      <td>30.0</td>\n",
              "      <td>0.972435</td>\n",
              "    </tr>\n",
              "    <tr>\n",
              "      <th>2020-01-23 12:00:00</th>\n",
              "      <td>797.0</td>\n",
              "      <td>22.0</td>\n",
              "      <td>33.0</td>\n",
              "      <td>0.972396</td>\n",
              "    </tr>\n",
              "    <tr>\n",
              "      <th>2020-01-24 00:00:00</th>\n",
              "      <td>941.0</td>\n",
              "      <td>26.0</td>\n",
              "      <td>36.0</td>\n",
              "      <td>0.972370</td>\n",
              "    </tr>\n",
              "    <tr>\n",
              "      <th>...</th>\n",
              "      <td>...</td>\n",
              "      <td>...</td>\n",
              "      <td>...</td>\n",
              "      <td>...</td>\n",
              "    </tr>\n",
              "    <tr>\n",
              "      <th>2020-08-07 00:00:00</th>\n",
              "      <td>19378036.0</td>\n",
              "      <td>721324.0</td>\n",
              "      <td>11737927.0</td>\n",
              "      <td>0.962776</td>\n",
              "    </tr>\n",
              "    <tr>\n",
              "      <th>2020-08-07 12:00:00</th>\n",
              "      <td>19507771.0</td>\n",
              "      <td>724052.5</td>\n",
              "      <td>11838518.0</td>\n",
              "      <td>0.962884</td>\n",
              "    </tr>\n",
              "    <tr>\n",
              "      <th>2020-08-08 00:00:00</th>\n",
              "      <td>19637506.0</td>\n",
              "      <td>726781.0</td>\n",
              "      <td>11939109.0</td>\n",
              "      <td>0.962990</td>\n",
              "    </tr>\n",
              "    <tr>\n",
              "      <th>2020-08-08 12:00:00</th>\n",
              "      <td>19749594.5</td>\n",
              "      <td>729053.5</td>\n",
              "      <td>12027467.0</td>\n",
              "      <td>0.963085</td>\n",
              "    </tr>\n",
              "    <tr>\n",
              "      <th>2020-08-09 00:00:00</th>\n",
              "      <td>19861683.0</td>\n",
              "      <td>731326.0</td>\n",
              "      <td>12115825.0</td>\n",
              "      <td>0.963179</td>\n",
              "    </tr>\n",
              "  </tbody>\n",
              "</table>\n",
              "<p>401 rows × 4 columns</p>\n",
              "</div>"
            ],
            "text/plain": [
              "                      Confirmed    Deaths   Recovered      rate\n",
              "ObservationDate                                                \n",
              "2020-01-22 00:00:00       555.0      17.0        28.0  0.969369\n",
              "2020-01-22 12:00:00       604.0      17.5        29.0  0.971026\n",
              "2020-01-23 00:00:00       653.0      18.0        30.0  0.972435\n",
              "2020-01-23 12:00:00       797.0      22.0        33.0  0.972396\n",
              "2020-01-24 00:00:00       941.0      26.0        36.0  0.972370\n",
              "...                         ...       ...         ...       ...\n",
              "2020-08-07 00:00:00  19378036.0  721324.0  11737927.0  0.962776\n",
              "2020-08-07 12:00:00  19507771.0  724052.5  11838518.0  0.962884\n",
              "2020-08-08 00:00:00  19637506.0  726781.0  11939109.0  0.962990\n",
              "2020-08-08 12:00:00  19749594.5  729053.5  12027467.0  0.963085\n",
              "2020-08-09 00:00:00  19861683.0  731326.0  12115825.0  0.963179\n",
              "\n",
              "[401 rows x 4 columns]"
            ]
          },
          "metadata": {
            "tags": []
          },
          "execution_count": 37
        }
      ]
    },
    {
      "cell_type": "markdown",
      "metadata": {
        "id": "oLGzXnSNxpKq",
        "colab_type": "text"
      },
      "source": [
        "Eliminemos al tiempo como indice y contemplemos un nuevo tipo de base de datos, esto es cuando nuestra variable de tipo tiempo no pertenece al indice"
      ]
    },
    {
      "cell_type": "code",
      "metadata": {
        "id": "nU-WDfL5wyXI",
        "colab_type": "code",
        "colab": {
          "base_uri": "https://localhost:8080/",
          "height": 424
        },
        "outputId": "79cbf5da-0665-4654-af6d-eb0ce82e9002"
      },
      "source": [
        "df_cum = df_cum.reset_index()\n",
        "df_cum"
      ],
      "execution_count": 56,
      "outputs": [
        {
          "output_type": "execute_result",
          "data": {
            "text/html": [
              "<div>\n",
              "<style scoped>\n",
              "    .dataframe tbody tr th:only-of-type {\n",
              "        vertical-align: middle;\n",
              "    }\n",
              "\n",
              "    .dataframe tbody tr th {\n",
              "        vertical-align: top;\n",
              "    }\n",
              "\n",
              "    .dataframe thead th {\n",
              "        text-align: right;\n",
              "    }\n",
              "</style>\n",
              "<table border=\"1\" class=\"dataframe\">\n",
              "  <thead>\n",
              "    <tr style=\"text-align: right;\">\n",
              "      <th></th>\n",
              "      <th>level_0</th>\n",
              "      <th>index</th>\n",
              "      <th>ObservationDate</th>\n",
              "      <th>Confirmed</th>\n",
              "      <th>Deaths</th>\n",
              "      <th>Recovered</th>\n",
              "      <th>rate</th>\n",
              "    </tr>\n",
              "  </thead>\n",
              "  <tbody>\n",
              "    <tr>\n",
              "      <th>0</th>\n",
              "      <td>0</td>\n",
              "      <td>0</td>\n",
              "      <td>2020-01-22 00:00:00</td>\n",
              "      <td>555.0</td>\n",
              "      <td>17.0</td>\n",
              "      <td>28.0</td>\n",
              "      <td>0.969369</td>\n",
              "    </tr>\n",
              "    <tr>\n",
              "      <th>1</th>\n",
              "      <td>1</td>\n",
              "      <td>1</td>\n",
              "      <td>2020-01-22 12:00:00</td>\n",
              "      <td>604.0</td>\n",
              "      <td>17.5</td>\n",
              "      <td>29.0</td>\n",
              "      <td>0.971026</td>\n",
              "    </tr>\n",
              "    <tr>\n",
              "      <th>2</th>\n",
              "      <td>2</td>\n",
              "      <td>2</td>\n",
              "      <td>2020-01-23 00:00:00</td>\n",
              "      <td>653.0</td>\n",
              "      <td>18.0</td>\n",
              "      <td>30.0</td>\n",
              "      <td>0.972435</td>\n",
              "    </tr>\n",
              "    <tr>\n",
              "      <th>3</th>\n",
              "      <td>3</td>\n",
              "      <td>3</td>\n",
              "      <td>2020-01-23 12:00:00</td>\n",
              "      <td>797.0</td>\n",
              "      <td>22.0</td>\n",
              "      <td>33.0</td>\n",
              "      <td>0.972396</td>\n",
              "    </tr>\n",
              "    <tr>\n",
              "      <th>4</th>\n",
              "      <td>4</td>\n",
              "      <td>4</td>\n",
              "      <td>2020-01-24 00:00:00</td>\n",
              "      <td>941.0</td>\n",
              "      <td>26.0</td>\n",
              "      <td>36.0</td>\n",
              "      <td>0.972370</td>\n",
              "    </tr>\n",
              "    <tr>\n",
              "      <th>...</th>\n",
              "      <td>...</td>\n",
              "      <td>...</td>\n",
              "      <td>...</td>\n",
              "      <td>...</td>\n",
              "      <td>...</td>\n",
              "      <td>...</td>\n",
              "      <td>...</td>\n",
              "    </tr>\n",
              "    <tr>\n",
              "      <th>396</th>\n",
              "      <td>396</td>\n",
              "      <td>396</td>\n",
              "      <td>2020-08-07 00:00:00</td>\n",
              "      <td>19378036.0</td>\n",
              "      <td>721324.0</td>\n",
              "      <td>11737927.0</td>\n",
              "      <td>0.962776</td>\n",
              "    </tr>\n",
              "    <tr>\n",
              "      <th>397</th>\n",
              "      <td>397</td>\n",
              "      <td>397</td>\n",
              "      <td>2020-08-07 12:00:00</td>\n",
              "      <td>19507771.0</td>\n",
              "      <td>724052.5</td>\n",
              "      <td>11838518.0</td>\n",
              "      <td>0.962884</td>\n",
              "    </tr>\n",
              "    <tr>\n",
              "      <th>398</th>\n",
              "      <td>398</td>\n",
              "      <td>398</td>\n",
              "      <td>2020-08-08 00:00:00</td>\n",
              "      <td>19637506.0</td>\n",
              "      <td>726781.0</td>\n",
              "      <td>11939109.0</td>\n",
              "      <td>0.962990</td>\n",
              "    </tr>\n",
              "    <tr>\n",
              "      <th>399</th>\n",
              "      <td>399</td>\n",
              "      <td>399</td>\n",
              "      <td>2020-08-08 12:00:00</td>\n",
              "      <td>19749594.5</td>\n",
              "      <td>729053.5</td>\n",
              "      <td>12027467.0</td>\n",
              "      <td>0.963085</td>\n",
              "    </tr>\n",
              "    <tr>\n",
              "      <th>400</th>\n",
              "      <td>400</td>\n",
              "      <td>400</td>\n",
              "      <td>2020-08-09 00:00:00</td>\n",
              "      <td>19861683.0</td>\n",
              "      <td>731326.0</td>\n",
              "      <td>12115825.0</td>\n",
              "      <td>0.963179</td>\n",
              "    </tr>\n",
              "  </tbody>\n",
              "</table>\n",
              "<p>401 rows × 7 columns</p>\n",
              "</div>"
            ],
            "text/plain": [
              "     level_0  index     ObservationDate  ...    Deaths   Recovered      rate\n",
              "0          0      0 2020-01-22 00:00:00  ...      17.0        28.0  0.969369\n",
              "1          1      1 2020-01-22 12:00:00  ...      17.5        29.0  0.971026\n",
              "2          2      2 2020-01-23 00:00:00  ...      18.0        30.0  0.972435\n",
              "3          3      3 2020-01-23 12:00:00  ...      22.0        33.0  0.972396\n",
              "4          4      4 2020-01-24 00:00:00  ...      26.0        36.0  0.972370\n",
              "..       ...    ...                 ...  ...       ...         ...       ...\n",
              "396      396    396 2020-08-07 00:00:00  ...  721324.0  11737927.0  0.962776\n",
              "397      397    397 2020-08-07 12:00:00  ...  724052.5  11838518.0  0.962884\n",
              "398      398    398 2020-08-08 00:00:00  ...  726781.0  11939109.0  0.962990\n",
              "399      399    399 2020-08-08 12:00:00  ...  729053.5  12027467.0  0.963085\n",
              "400      400    400 2020-08-09 00:00:00  ...  731326.0  12115825.0  0.963179\n",
              "\n",
              "[401 rows x 7 columns]"
            ]
          },
          "metadata": {
            "tags": []
          },
          "execution_count": 56
        }
      ]
    },
    {
      "cell_type": "markdown",
      "metadata": {
        "id": "GhXg9lJDx6EU",
        "colab_type": "text"
      },
      "source": [
        "Utilicemos un groupby especial para series de tiempo. Vamos a determinar una frecuencia en la cual haremos nuestra observación estadística, en este caso lo haremos mensual. Trabajaremos con la nueva columna que es la tasa de supervivencia y calcularemos la media."
      ]
    },
    {
      "cell_type": "code",
      "metadata": {
        "id": "_7RVQV_ixkXw",
        "colab_type": "code",
        "colab": {
          "base_uri": "https://localhost:8080/",
          "height": 332
        },
        "outputId": "a4f2466b-ef10-4128-87ad-f8bbfe45a178"
      },
      "source": [
        "df_cum.groupby(pd.Grouper(key='ObservationDate', freq= 'M'))[['rate']].mean()"
      ],
      "execution_count": 57,
      "outputs": [
        {
          "output_type": "execute_result",
          "data": {
            "text/html": [
              "<div>\n",
              "<style scoped>\n",
              "    .dataframe tbody tr th:only-of-type {\n",
              "        vertical-align: middle;\n",
              "    }\n",
              "\n",
              "    .dataframe tbody tr th {\n",
              "        vertical-align: top;\n",
              "    }\n",
              "\n",
              "    .dataframe thead th {\n",
              "        text-align: right;\n",
              "    }\n",
              "</style>\n",
              "<table border=\"1\" class=\"dataframe\">\n",
              "  <thead>\n",
              "    <tr style=\"text-align: right;\">\n",
              "      <th></th>\n",
              "      <th>rate</th>\n",
              "    </tr>\n",
              "    <tr>\n",
              "      <th>ObservationDate</th>\n",
              "      <th></th>\n",
              "    </tr>\n",
              "  </thead>\n",
              "  <tbody>\n",
              "    <tr>\n",
              "      <th>2020-01-31</th>\n",
              "      <td>0.974594</td>\n",
              "    </tr>\n",
              "    <tr>\n",
              "      <th>2020-02-29</th>\n",
              "      <td>0.973562</td>\n",
              "    </tr>\n",
              "    <tr>\n",
              "      <th>2020-03-31</th>\n",
              "      <td>0.960070</td>\n",
              "    </tr>\n",
              "    <tr>\n",
              "      <th>2020-04-30</th>\n",
              "      <td>0.936029</td>\n",
              "    </tr>\n",
              "    <tr>\n",
              "      <th>2020-05-31</th>\n",
              "      <td>0.933422</td>\n",
              "    </tr>\n",
              "    <tr>\n",
              "      <th>2020-06-30</th>\n",
              "      <td>0.945713</td>\n",
              "    </tr>\n",
              "    <tr>\n",
              "      <th>2020-07-31</th>\n",
              "      <td>0.957037</td>\n",
              "    </tr>\n",
              "    <tr>\n",
              "      <th>2020-08-31</th>\n",
              "      <td>0.962405</td>\n",
              "    </tr>\n",
              "  </tbody>\n",
              "</table>\n",
              "</div>"
            ],
            "text/plain": [
              "                     rate\n",
              "ObservationDate          \n",
              "2020-01-31       0.974594\n",
              "2020-02-29       0.973562\n",
              "2020-03-31       0.960070\n",
              "2020-04-30       0.936029\n",
              "2020-05-31       0.933422\n",
              "2020-06-30       0.945713\n",
              "2020-07-31       0.957037\n",
              "2020-08-31       0.962405"
            ]
          },
          "metadata": {
            "tags": []
          },
          "execution_count": 57
        }
      ]
    },
    {
      "cell_type": "markdown",
      "metadata": {
        "id": "0hzQPzTWzjE2",
        "colab_type": "text"
      },
      "source": [
        "Podemos visualizar de forma gráfica lo anterior, cambiemos la frecuencia en la cual haremos nuestro estudio, esta será a un dia."
      ]
    },
    {
      "cell_type": "code",
      "metadata": {
        "id": "yLtEg7Q5yQl3",
        "colab_type": "code",
        "colab": {
          "base_uri": "https://localhost:8080/",
          "height": 308
        },
        "outputId": "33eecef0-33eb-4c95-bf72-2f4dca88da36"
      },
      "source": [
        "serie = df_cum.groupby(pd.Grouper(key='ObservationDate', freq= '1d'))['rate'].mean()\n",
        "serie.plot()"
      ],
      "execution_count": 58,
      "outputs": [
        {
          "output_type": "execute_result",
          "data": {
            "text/plain": [
              "<matplotlib.axes._subplots.AxesSubplot at 0x7f42b92ba6d8>"
            ]
          },
          "metadata": {
            "tags": []
          },
          "execution_count": 58
        },
        {
          "output_type": "display_data",
          "data": {
            "image/png": "[encoded data removed]",
            "text/plain": [
              "<Figure size 432x288 with 1 Axes>"
            ]
          },
          "metadata": {
            "tags": [],
            "needs_background": "light"
          }
        }
      ]
    },
    {
      "cell_type": "markdown",
      "metadata": {
        "id": "ci737SiM0Ezz",
        "colab_type": "text"
      },
      "source": [
        "Podemos hacer la gráfica anterior visualmente mas agradable haciendo un suavizado. El mismo se realiza calculando los promedios y graficandolos.\n",
        "\n",
        "Utilicemos la funcion .rolling(), la misma nos permite hacer promedios con ventajas de frecuencia"
      ]
    },
    {
      "cell_type": "code",
      "metadata": {
        "id": "Xzufrwc1zJEj",
        "colab_type": "code",
        "colab": {
          "base_uri": "https://localhost:8080/",
          "height": 308
        },
        "outputId": "b33dd48c-da2f-46d5-bb4a-109ebf81e23f"
      },
      "source": [
        "serie.rolling(window=7).mean().plot()"
      ],
      "execution_count": 60,
      "outputs": [
        {
          "output_type": "execute_result",
          "data": {
            "text/plain": [
              "<matplotlib.axes._subplots.AxesSubplot at 0x7f42b92baa20>"
            ]
          },
          "metadata": {
            "tags": []
          },
          "execution_count": 60
        },
        {
          "output_type": "display_data",
          "data": {
            "image/png": "[encoded data removed]",
            "text/plain": [
              "<Figure size 432x288 with 1 Axes>"
            ]
          },
          "metadata": {
            "tags": [],
            "needs_background": "light"
          }
        }
      ]
    },
    {
      "cell_type": "markdown",
      "metadata": {
        "id": "Q-yWTHXP6AUj",
        "colab_type": "text"
      },
      "source": [
        "Comparemos ahora las gráficas:"
      ]
    },
    {
      "cell_type": "code",
      "metadata": {
        "id": "HPcfwFQZ58DN",
        "colab_type": "code",
        "colab": {
          "base_uri": "https://localhost:8080/",
          "height": 308
        },
        "outputId": "15396c1d-c106-4550-d01d-6ad90db45d67"
      },
      "source": [
        "serie.plot()\n",
        "serie.rolling(window=7).mean().plot()\n",
        "serie.rolling(window=14).mean().plot()\n",
        "serie.rolling(window=21).mean().plot()"
      ],
      "execution_count": 65,
      "outputs": [
        {
          "output_type": "execute_result",
          "data": {
            "text/plain": [
              "<matplotlib.axes._subplots.AxesSubplot at 0x7f42b8d54588>"
            ]
          },
          "metadata": {
            "tags": []
          },
          "execution_count": 65
        },
        {
          "output_type": "display_data",
          "data": {
            "image/png": "[encoded data removed]",
            "text/plain": [
              "<Figure size 432x288 with 1 Axes>"
            ]
          },
          "metadata": {
            "tags": [],
            "needs_background": "light"
          }
        }
      ]
    },
    {
      "cell_type": "markdown",
      "metadata": {
        "id": "gobG8cpm9DMO",
        "colab_type": "text"
      },
      "source": [
        "Tambien podemos hacer la gráfica anterior mas agradable de utilizando la libreria matplotlib y agregando labels"
      ]
    },
    {
      "cell_type": "code",
      "metadata": {
        "id": "3XHUXTEh9LBE",
        "colab_type": "code",
        "colab": {
          "base_uri": "https://localhost:8080/",
          "height": 318
        },
        "outputId": "2df7eb04-8426-4ddf-e88e-c600914a15e1"
      },
      "source": [
        "import matplotlib.pyplot as plt\n",
        "\n",
        "plt.plot(serie, label = 'Original')\n",
        "plt.plot(serie.rolling(window = 7).mean(), label = '7 días')\n",
        "plt.plot(serie.rolling(window = 14).mean(), label = '14 días')\n",
        "plt.plot(serie.rolling(window = 21).mean(), label = '21 días')\n",
        "\n",
        "plt.xticks(rotation = '30')\n",
        "plt.legend()\n",
        "plt.title('Promedio móvil de Tasa de Supervivencia')"
      ],
      "execution_count": 68,
      "outputs": [
        {
          "output_type": "execute_result",
          "data": {
            "text/plain": [
              "Text(0.5, 1.0, 'Promedio móvil de Tasa de Supervivencia')"
            ]
          },
          "metadata": {
            "tags": []
          },
          "execution_count": 68
        },
        {
          "output_type": "display_data",
          "data": {
            "image/png": "[encoded data removed]",
            "text/plain": [
              "<Figure size 432x288 with 1 Axes>"
            ]
          },
          "metadata": {
            "tags": [],
            "needs_background": "light"
          }
        }
      ]
    },
    {
      "cell_type": "markdown",
      "metadata": {
        "id": "IBYUIvZk6To4",
        "colab_type": "text"
      },
      "source": [
        "Cada vez que aumentamos el tamaño de la ventana para tomar datos y sacar su promedio, aumentamos el suavizado de la gráfica"
      ]
    },
    {
      "cell_type": "markdown",
      "metadata": {
        "id": "HuDGrWFF6jFU",
        "colab_type": "text"
      },
      "source": [
        "Por último analicemos como ha ido variando la desviación estandar de nuestra tasa de supervivencia."
      ]
    },
    {
      "cell_type": "code",
      "metadata": {
        "id": "NRsx2m1D7KKJ",
        "colab_type": "code",
        "colab": {}
      },
      "source": [
        "import numpy as np"
      ],
      "execution_count": 63,
      "outputs": []
    },
    {
      "cell_type": "code",
      "metadata": {
        "id": "HjBW_5An6IpB",
        "colab_type": "code",
        "colab": {
          "base_uri": "https://localhost:8080/",
          "height": 308
        },
        "outputId": "3a15a05a-66fa-4a02-bcf1-e06889af3a6f"
      },
      "source": [
        "serie.rolling(window=12).std().plot()  # Utilizando una función de pandas\n",
        "serie.rolling(window=12).apply(lambda x: np.std(x)).plot() # Utilizando una funcion externa, en este caso numpy\n"
      ],
      "execution_count": 64,
      "outputs": [
        {
          "output_type": "execute_result",
          "data": {
            "text/plain": [
              "<matplotlib.axes._subplots.AxesSubplot at 0x7f42b8f97fd0>"
            ]
          },
          "metadata": {
            "tags": []
          },
          "execution_count": 64
        },
        {
          "output_type": "display_data",
          "data": {
            "image/png": "[encoded data removed]",
            "text/plain": [
              "<Figure size 432x288 with 1 Axes>"
            ]
          },
          "metadata": {
            "tags": [],
            "needs_background": "light"
          }
        }
      ]
    },
    {
      "cell_type": "markdown",
      "metadata": {
        "id": "rzRb-BkM7lOY",
        "colab_type": "text"
      },
      "source": [
        "La variacion de nuesta variacion estandar es de menos del 0.5%, esto es muy bueno. Como conclusion podemos decir la tasa de supervivencia para buena noticas es alta y es del 97% aproximadamente."
      ]
    }
  ]
}